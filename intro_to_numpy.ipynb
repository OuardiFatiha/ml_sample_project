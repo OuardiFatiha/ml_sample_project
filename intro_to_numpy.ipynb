{
  "nbformat": 4,
  "nbformat_minor": 0,
  "metadata": {
    "colab": {
      "name": "intro_to_numpy.ipynb",
      "provenance": [],
      "authorship_tag": "ABX9TyORhAC5o2D+gxqVZKe254qb",
      "include_colab_link": true
    },
    "kernelspec": {
      "name": "python3",
      "display_name": "Python 3"
    }
  },
  "cells": [
    {
      "cell_type": "markdown",
      "metadata": {
        "id": "view-in-github",
        "colab_type": "text"
      },
      "source": [
        "<a href=\"https://colab.research.google.com/github/OuardiFatiha/ml_sample_project/blob/main/intro_to_numpy.ipynb\" target=\"_parent\"><img src=\"https://colab.research.google.com/assets/colab-badge.svg\" alt=\"Open In Colab\"/></a>"
      ]
    },
    {
      "cell_type": "code",
      "metadata": {
        "id": "d49IQKlhuc6V"
      },
      "source": [
        "import numpy as np"
      ],
      "execution_count": null,
      "outputs": []
    },
    {
      "cell_type": "markdown",
      "metadata": {
        "id": "w6fPZCfCvUbn"
      },
      "source": [
        "## Data Types and Attributes\n",
        "\n",
        "Numpy's main data type is ndarray."
      ]
    },
    {
      "cell_type": "code",
      "metadata": {
        "id": "muFO4XPCvtSu"
      },
      "source": [
        "# control+m+m to turn a cell into markdown in colab"
      ],
      "execution_count": null,
      "outputs": []
    },
    {
      "cell_type": "code",
      "metadata": {
        "id": "KfcCnxL4v7QP",
        "outputId": "fb33bdc2-2310-4468-da85-2b7d40fd2032",
        "colab": {
          "base_uri": "https://localhost:8080/"
        }
      },
      "source": [
        "# create an ndarray\n",
        "a1=np.array([1,5,7.5])\n",
        "a1"
      ],
      "execution_count": null,
      "outputs": [
        {
          "output_type": "execute_result",
          "data": {
            "text/plain": [
              "array([1. , 5. , 7.5])"
            ]
          },
          "metadata": {
            "tags": []
          },
          "execution_count": 18
        }
      ]
    },
    {
      "cell_type": "code",
      "metadata": {
        "id": "MjYIcUkvwb4D",
        "outputId": "8f777199-1bc7-43cc-d099-b02a183c5b84",
        "colab": {
          "base_uri": "https://localhost:8080/"
        }
      },
      "source": [
        "type(a1)"
      ],
      "execution_count": null,
      "outputs": [
        {
          "output_type": "execute_result",
          "data": {
            "text/plain": [
              "numpy.ndarray"
            ]
          },
          "metadata": {
            "tags": []
          },
          "execution_count": 6
        }
      ]
    },
    {
      "cell_type": "code",
      "metadata": {
        "id": "g0y7e7d2wf7E"
      },
      "source": [
        "a2=np.array([[1,2,5],\n",
        "             [7,9,4]])\n",
        "\n",
        "a3=np.array([[[1,2,3],\n",
        "              [4,5,6],\n",
        "              [7,8,9]],\n",
        "            [[10,11,12],\n",
        "             [13,14,15],\n",
        "             [16,17,18]]])"
      ],
      "execution_count": null,
      "outputs": []
    },
    {
      "cell_type": "code",
      "metadata": {
        "id": "FqicELlQxXY-",
        "outputId": "6c2338e0-1518-469f-af5d-adbe8c8a6c61",
        "colab": {
          "base_uri": "https://localhost:8080/"
        }
      },
      "source": [
        "a2"
      ],
      "execution_count": null,
      "outputs": [
        {
          "output_type": "execute_result",
          "data": {
            "text/plain": [
              "array([[1, 2, 5],\n",
              "       [7, 9, 4]])"
            ]
          },
          "metadata": {
            "tags": []
          },
          "execution_count": 8
        }
      ]
    },
    {
      "cell_type": "code",
      "metadata": {
        "id": "UDd_2NLexbps",
        "outputId": "1b7c548a-eefa-4a9a-c5bc-42197b132e39",
        "colab": {
          "base_uri": "https://localhost:8080/"
        }
      },
      "source": [
        "a3"
      ],
      "execution_count": null,
      "outputs": [
        {
          "output_type": "execute_result",
          "data": {
            "text/plain": [
              "array([[[ 1,  2,  3],\n",
              "        [ 4,  5,  6],\n",
              "        [ 7,  8,  9]],\n",
              "\n",
              "       [[10, 11, 12],\n",
              "        [13, 14, 15],\n",
              "        [16, 17, 18]]])"
            ]
          },
          "metadata": {
            "tags": []
          },
          "execution_count": 11
        }
      ]
    },
    {
      "cell_type": "code",
      "metadata": {
        "id": "83Or_tH-xdFk",
        "outputId": "c0f5686c-3ffc-4b38-82a7-1bff605d0bc7",
        "colab": {
          "base_uri": "https://localhost:8080/"
        }
      },
      "source": [
        "a1.shape , a2.shape , a3.shape"
      ],
      "execution_count": null,
      "outputs": [
        {
          "output_type": "execute_result",
          "data": {
            "text/plain": [
              "((3,), (2, 3), (2, 3, 3))"
            ]
          },
          "metadata": {
            "tags": []
          },
          "execution_count": 12
        }
      ]
    },
    {
      "cell_type": "code",
      "metadata": {
        "id": "r7raApFEyjDl",
        "outputId": "9c735f02-8f75-473d-e2b2-bec4c0e74876",
        "colab": {
          "base_uri": "https://localhost:8080/"
        }
      },
      "source": [
        "a1.ndim , a2.ndim , a3.ndim #ndim for number of dimension"
      ],
      "execution_count": null,
      "outputs": [
        {
          "output_type": "execute_result",
          "data": {
            "text/plain": [
              "(1, 2, 3)"
            ]
          },
          "metadata": {
            "tags": []
          },
          "execution_count": 13
        }
      ]
    },
    {
      "cell_type": "code",
      "metadata": {
        "id": "R_A27We-yc0I",
        "outputId": "c7dda322-f6ff-422d-8dad-990f16adc76f",
        "colab": {
          "base_uri": "https://localhost:8080/"
        }
      },
      "source": [
        "a1.dtype , a2.dtype , a3.dtype"
      ],
      "execution_count": null,
      "outputs": [
        {
          "output_type": "execute_result",
          "data": {
            "text/plain": [
              "(dtype('float64'), dtype('int64'), dtype('int64'))"
            ]
          },
          "metadata": {
            "tags": []
          },
          "execution_count": 14
        }
      ]
    },
    {
      "cell_type": "code",
      "metadata": {
        "id": "OBoRXOOuy1Ku",
        "outputId": "1a9458b4-688e-4f8c-cb58-dcb0e3d1ec2d",
        "colab": {
          "base_uri": "https://localhost:8080/"
        }
      },
      "source": [
        "a1.size , a2.size , a3.size"
      ],
      "execution_count": null,
      "outputs": [
        {
          "output_type": "execute_result",
          "data": {
            "text/plain": [
              "(3, 6, 18)"
            ]
          },
          "metadata": {
            "tags": []
          },
          "execution_count": 15
        }
      ]
    },
    {
      "cell_type": "code",
      "metadata": {
        "id": "FE9tEGQZy9KL",
        "outputId": "e6fee882-d3b6-402b-8c48-c567a03c6ac2",
        "colab": {
          "base_uri": "https://localhost:8080/"
        }
      },
      "source": [
        "type(a1), type(a2), type(a3)"
      ],
      "execution_count": null,
      "outputs": [
        {
          "output_type": "execute_result",
          "data": {
            "text/plain": [
              "(numpy.ndarray, numpy.ndarray, numpy.ndarray)"
            ]
          },
          "metadata": {
            "tags": []
          },
          "execution_count": 16
        }
      ]
    },
    {
      "cell_type": "code",
      "metadata": {
        "id": "-dvEH2dBzHWx",
        "outputId": "b19b492a-f0e8-4140-cbb7-aeab16a02353",
        "colab": {
          "base_uri": "https://localhost:8080/",
          "height": 112
        }
      },
      "source": [
        "# Create a DataFrame for a NumPy Array\n",
        "import pandas as pd\n",
        "\n",
        "df=pd.DataFrame(a2)\n",
        "df"
      ],
      "execution_count": null,
      "outputs": [
        {
          "output_type": "execute_result",
          "data": {
            "text/html": [
              "<div>\n",
              "<style scoped>\n",
              "    .dataframe tbody tr th:only-of-type {\n",
              "        vertical-align: middle;\n",
              "    }\n",
              "\n",
              "    .dataframe tbody tr th {\n",
              "        vertical-align: top;\n",
              "    }\n",
              "\n",
              "    .dataframe thead th {\n",
              "        text-align: right;\n",
              "    }\n",
              "</style>\n",
              "<table border=\"1\" class=\"dataframe\">\n",
              "  <thead>\n",
              "    <tr style=\"text-align: right;\">\n",
              "      <th></th>\n",
              "      <th>0</th>\n",
              "      <th>1</th>\n",
              "      <th>2</th>\n",
              "    </tr>\n",
              "  </thead>\n",
              "  <tbody>\n",
              "    <tr>\n",
              "      <th>0</th>\n",
              "      <td>1</td>\n",
              "      <td>2</td>\n",
              "      <td>5</td>\n",
              "    </tr>\n",
              "    <tr>\n",
              "      <th>1</th>\n",
              "      <td>7</td>\n",
              "      <td>9</td>\n",
              "      <td>4</td>\n",
              "    </tr>\n",
              "  </tbody>\n",
              "</table>\n",
              "</div>"
            ],
            "text/plain": [
              "   0  1  2\n",
              "0  1  2  5\n",
              "1  7  9  4"
            ]
          },
          "metadata": {
            "tags": []
          },
          "execution_count": 18
        }
      ]
    },
    {
      "cell_type": "markdown",
      "metadata": {
        "id": "5JZeVIxKzcHT"
      },
      "source": [
        "## 2.Creating arrays"
      ]
    },
    {
      "cell_type": "code",
      "metadata": {
        "id": "4X8KH5hl5q5k",
        "outputId": "a358df4e-89f5-479c-8d12-bdd37783cbe5",
        "colab": {
          "base_uri": "https://localhost:8080/"
        }
      },
      "source": [
        "sample_array = np.array([1,5,9,3])\n",
        "sample_array"
      ],
      "execution_count": null,
      "outputs": [
        {
          "output_type": "execute_result",
          "data": {
            "text/plain": [
              "array([1, 5, 9, 3])"
            ]
          },
          "metadata": {
            "tags": []
          },
          "execution_count": 23
        }
      ]
    },
    {
      "cell_type": "code",
      "metadata": {
        "id": "HkjNuByi58GT",
        "outputId": "f8f2cdc4-7376-4576-8bfa-570115789144",
        "colab": {
          "base_uri": "https://localhost:8080/"
        }
      },
      "source": [
        "ones =np.ones((2,3),int)\n",
        "ones"
      ],
      "execution_count": null,
      "outputs": [
        {
          "output_type": "execute_result",
          "data": {
            "text/plain": [
              "array([[1, 1, 1],\n",
              "       [1, 1, 1]])"
            ]
          },
          "metadata": {
            "tags": []
          },
          "execution_count": 25
        }
      ]
    },
    {
      "cell_type": "code",
      "metadata": {
        "id": "ZTU6kOdq6sGn",
        "outputId": "6d3287df-1c11-48c4-bbb7-8ee06e7efafa",
        "colab": {
          "base_uri": "https://localhost:8080/"
        }
      },
      "source": [
        "ones.dtype"
      ],
      "execution_count": null,
      "outputs": [
        {
          "output_type": "execute_result",
          "data": {
            "text/plain": [
              "dtype('int64')"
            ]
          },
          "metadata": {
            "tags": []
          },
          "execution_count": 26
        }
      ]
    },
    {
      "cell_type": "code",
      "metadata": {
        "id": "0ksFri-5654Y",
        "outputId": "c3471519-eb83-4be1-b18a-61ce8211e406",
        "colab": {
          "base_uri": "https://localhost:8080/"
        }
      },
      "source": [
        "type(ones)"
      ],
      "execution_count": null,
      "outputs": [
        {
          "output_type": "execute_result",
          "data": {
            "text/plain": [
              "numpy.ndarray"
            ]
          },
          "metadata": {
            "tags": []
          },
          "execution_count": 27
        }
      ]
    },
    {
      "cell_type": "code",
      "metadata": {
        "id": "cYfalPXk68Uj"
      },
      "source": [
        "zeros =np.zeros((2,3))"
      ],
      "execution_count": null,
      "outputs": []
    },
    {
      "cell_type": "code",
      "metadata": {
        "id": "GKNgV65K7I5i",
        "outputId": "79e64c6d-134d-432e-8325-895c23436b36",
        "colab": {
          "base_uri": "https://localhost:8080/"
        }
      },
      "source": [
        "zeros"
      ],
      "execution_count": null,
      "outputs": [
        {
          "output_type": "execute_result",
          "data": {
            "text/plain": [
              "array([[0., 0., 0.],\n",
              "       [0., 0., 0.]])"
            ]
          },
          "metadata": {
            "tags": []
          },
          "execution_count": 29
        }
      ]
    },
    {
      "cell_type": "code",
      "metadata": {
        "id": "spzsZXhW7KLG",
        "outputId": "8c047fe2-791e-46f3-ca7a-e63e47b20e03",
        "colab": {
          "base_uri": "https://localhost:8080/"
        }
      },
      "source": [
        "range_array = np.arange(0,10,2)\n",
        "range_array"
      ],
      "execution_count": null,
      "outputs": [
        {
          "output_type": "execute_result",
          "data": {
            "text/plain": [
              "array([0, 2, 4, 6, 8])"
            ]
          },
          "metadata": {
            "tags": []
          },
          "execution_count": 30
        }
      ]
    },
    {
      "cell_type": "code",
      "metadata": {
        "id": "shobRqxn7mew",
        "outputId": "47095e30-6a78-4a1b-bc0d-c46ec7b81dcc",
        "colab": {
          "base_uri": "https://localhost:8080/"
        }
      },
      "source": [
        "random_array = np.random.randint(0,10,size=(2,3))\n",
        "random_array"
      ],
      "execution_count": null,
      "outputs": [
        {
          "output_type": "execute_result",
          "data": {
            "text/plain": [
              "array([[1, 4, 0],\n",
              "       [4, 2, 1]])"
            ]
          },
          "metadata": {
            "tags": []
          },
          "execution_count": 31
        }
      ]
    },
    {
      "cell_type": "code",
      "metadata": {
        "id": "xszsjP7R8Jv_",
        "outputId": "236d4e45-5ffe-4b11-9d50-4007a374d3f4",
        "colab": {
          "base_uri": "https://localhost:8080/"
        }
      },
      "source": [
        "random_array.size"
      ],
      "execution_count": null,
      "outputs": [
        {
          "output_type": "execute_result",
          "data": {
            "text/plain": [
              "6"
            ]
          },
          "metadata": {
            "tags": []
          },
          "execution_count": 32
        }
      ]
    },
    {
      "cell_type": "code",
      "metadata": {
        "id": "oU5-Ebau8NFy",
        "outputId": "ba2a40b5-7bec-4607-d773-69bc333a983e",
        "colab": {
          "base_uri": "https://localhost:8080/"
        }
      },
      "source": [
        "random_array.shape"
      ],
      "execution_count": null,
      "outputs": [
        {
          "output_type": "execute_result",
          "data": {
            "text/plain": [
              "(2, 3)"
            ]
          },
          "metadata": {
            "tags": []
          },
          "execution_count": 33
        }
      ]
    },
    {
      "cell_type": "code",
      "metadata": {
        "id": "hw9lrcL68Phz",
        "outputId": "211d9b36-4e1a-4339-cfc6-1145f164e6b0",
        "colab": {
          "base_uri": "https://localhost:8080/"
        }
      },
      "source": [
        "random_array_2 = np.random.random((3,5))\n",
        "random_array_2"
      ],
      "execution_count": null,
      "outputs": [
        {
          "output_type": "execute_result",
          "data": {
            "text/plain": [
              "array([[0.00960524, 0.8828524 , 0.2902946 , 0.9406788 , 0.0159281 ],\n",
              "       [0.96260172, 0.46262807, 0.21087847, 0.16058261, 0.96056272],\n",
              "       [0.88471128, 0.37204978, 0.49708224, 0.38181298, 0.39911377]])"
            ]
          },
          "metadata": {
            "tags": []
          },
          "execution_count": 34
        }
      ]
    },
    {
      "cell_type": "code",
      "metadata": {
        "id": "zsWJ2aV28nGz",
        "outputId": "085ee606-2226-4d2d-b846-ccefce0b8fa1",
        "colab": {
          "base_uri": "https://localhost:8080/"
        }
      },
      "source": [
        "random_array_2.shape"
      ],
      "execution_count": null,
      "outputs": [
        {
          "output_type": "execute_result",
          "data": {
            "text/plain": [
              "(3, 5)"
            ]
          },
          "metadata": {
            "tags": []
          },
          "execution_count": 36
        }
      ]
    },
    {
      "cell_type": "code",
      "metadata": {
        "id": "l0BzDuCo8rPR",
        "outputId": "fa7c66ef-86dd-4b1f-da82-49526266a3bd",
        "colab": {
          "base_uri": "https://localhost:8080/"
        }
      },
      "source": [
        "random_array_3 = np.random.rand(5,3)\n",
        "random_array_3"
      ],
      "execution_count": null,
      "outputs": [
        {
          "output_type": "execute_result",
          "data": {
            "text/plain": [
              "array([[0.34065741, 0.42401492, 0.91016497],\n",
              "       [0.41959932, 0.4966997 , 0.43433846],\n",
              "       [0.97087421, 0.86969568, 0.66348007],\n",
              "       [0.57820564, 0.51649553, 0.1811319 ],\n",
              "       [0.79918127, 0.27209335, 0.90588938]])"
            ]
          },
          "metadata": {
            "tags": []
          },
          "execution_count": 38
        }
      ]
    },
    {
      "cell_type": "code",
      "metadata": {
        "id": "xnq0H1kN9H_3",
        "outputId": "e6655678-46a6-48f9-f35b-82660650f59d",
        "colab": {
          "base_uri": "https://localhost:8080/"
        }
      },
      "source": [
        "# Pseudo_random numbers\n",
        "np.random.seed(seed=0)\n",
        "random_array_4 = np.random.randint(10,size=(2,3))\n",
        "random_array_4"
      ],
      "execution_count": null,
      "outputs": [
        {
          "output_type": "execute_result",
          "data": {
            "text/plain": [
              "array([[5, 0, 3],\n",
              "       [3, 7, 9]])"
            ]
          },
          "metadata": {
            "tags": []
          },
          "execution_count": 10
        }
      ]
    },
    {
      "cell_type": "code",
      "metadata": {
        "id": "Fs65Ky679bMD",
        "outputId": "328964a3-135a-4b62-c4f3-b15df99abceb",
        "colab": {
          "base_uri": "https://localhost:8080/"
        }
      },
      "source": [
        "random_array_4.shape"
      ],
      "execution_count": null,
      "outputs": [
        {
          "output_type": "execute_result",
          "data": {
            "text/plain": [
              "(2, 3)"
            ]
          },
          "metadata": {
            "tags": []
          },
          "execution_count": 4
        }
      ]
    },
    {
      "cell_type": "code",
      "metadata": {
        "id": "XBoUQso3AoSA",
        "outputId": "fef94415-7036-4d77-b0c8-0947693d6279",
        "colab": {
          "base_uri": "https://localhost:8080/"
        }
      },
      "source": [
        "np.random.seed(7)\n",
        "random_array_5 = np.random.random((5,3))\n",
        "random_array_5"
      ],
      "execution_count": null,
      "outputs": [
        {
          "output_type": "execute_result",
          "data": {
            "text/plain": [
              "array([[0.07630829, 0.77991879, 0.43840923],\n",
              "       [0.72346518, 0.97798951, 0.53849587],\n",
              "       [0.50112046, 0.07205113, 0.26843898],\n",
              "       [0.4998825 , 0.67923   , 0.80373904],\n",
              "       [0.38094113, 0.06593635, 0.2881456 ]])"
            ]
          },
          "metadata": {
            "tags": []
          },
          "execution_count": 16
        }
      ]
    },
    {
      "cell_type": "markdown",
      "metadata": {
        "id": "P_Pdnjk4Bsxf"
      },
      "source": [
        "## 3.Viewing arrays and matrices"
      ]
    },
    {
      "cell_type": "code",
      "metadata": {
        "id": "NlQchZu3DJCx",
        "outputId": "e6576d4b-8c25-4b8b-f795-5a07477257b8",
        "colab": {
          "base_uri": "https://localhost:8080/"
        }
      },
      "source": [
        "np.unique(random_array_4)"
      ],
      "execution_count": null,
      "outputs": [
        {
          "output_type": "execute_result",
          "data": {
            "text/plain": [
              "array([0, 3, 5, 7, 9])"
            ]
          },
          "metadata": {
            "tags": []
          },
          "execution_count": 17
        }
      ]
    },
    {
      "cell_type": "code",
      "metadata": {
        "id": "Jr8ggIMAD3MA",
        "outputId": "aee16d9f-fab0-46bf-b5c1-dc203c8aa50d",
        "colab": {
          "base_uri": "https://localhost:8080/"
        }
      },
      "source": [
        "a1[0]"
      ],
      "execution_count": null,
      "outputs": [
        {
          "output_type": "execute_result",
          "data": {
            "text/plain": [
              "1.0"
            ]
          },
          "metadata": {
            "tags": []
          },
          "execution_count": 21
        }
      ]
    },
    {
      "cell_type": "code",
      "metadata": {
        "id": "-CuuHg5ZEXDC",
        "outputId": "013e1e2d-80ce-45cc-97c2-9acb798943ac",
        "colab": {
          "base_uri": "https://localhost:8080/"
        }
      },
      "source": [
        "a1"
      ],
      "execution_count": null,
      "outputs": [
        {
          "output_type": "execute_result",
          "data": {
            "text/plain": [
              "array([1. , 5. , 7.5])"
            ]
          },
          "metadata": {
            "tags": []
          },
          "execution_count": 22
        }
      ]
    },
    {
      "cell_type": "code",
      "metadata": {
        "id": "1mT_KO3WEr8M",
        "outputId": "629022a6-0707-4ccb-b064-1c711be3392c",
        "colab": {
          "base_uri": "https://localhost:8080/"
        }
      },
      "source": [
        "a2[0]"
      ],
      "execution_count": null,
      "outputs": [
        {
          "output_type": "execute_result",
          "data": {
            "text/plain": [
              "array([1, 2, 5])"
            ]
          },
          "metadata": {
            "tags": []
          },
          "execution_count": 23
        }
      ]
    },
    {
      "cell_type": "code",
      "metadata": {
        "id": "6wQrpFkTEtsN",
        "outputId": "5105205d-51fc-4673-8bf0-a36c4c8f4fb3",
        "colab": {
          "base_uri": "https://localhost:8080/"
        }
      },
      "source": [
        "a2"
      ],
      "execution_count": null,
      "outputs": [
        {
          "output_type": "execute_result",
          "data": {
            "text/plain": [
              "array([[1, 2, 5],\n",
              "       [7, 9, 4]])"
            ]
          },
          "metadata": {
            "tags": []
          },
          "execution_count": 24
        }
      ]
    },
    {
      "cell_type": "code",
      "metadata": {
        "id": "EWubZ42fEuy3",
        "outputId": "82c5fe12-0b5d-4de5-c618-24bc6400ff2b",
        "colab": {
          "base_uri": "https://localhost:8080/"
        }
      },
      "source": [
        "a3[0]"
      ],
      "execution_count": null,
      "outputs": [
        {
          "output_type": "execute_result",
          "data": {
            "text/plain": [
              "array([[1, 2, 3],\n",
              "       [4, 5, 6],\n",
              "       [7, 8, 9]])"
            ]
          },
          "metadata": {
            "tags": []
          },
          "execution_count": 25
        }
      ]
    },
    {
      "cell_type": "code",
      "metadata": {
        "id": "9qH387LAEx8B",
        "outputId": "ffaf133a-ed6f-4c69-b077-cab42ec31365",
        "colab": {
          "base_uri": "https://localhost:8080/"
        }
      },
      "source": [
        "a3"
      ],
      "execution_count": null,
      "outputs": [
        {
          "output_type": "execute_result",
          "data": {
            "text/plain": [
              "array([[[ 1,  2,  3],\n",
              "        [ 4,  5,  6],\n",
              "        [ 7,  8,  9]],\n",
              "\n",
              "       [[10, 11, 12],\n",
              "        [13, 14, 15],\n",
              "        [16, 17, 18]]])"
            ]
          },
          "metadata": {
            "tags": []
          },
          "execution_count": 26
        }
      ]
    },
    {
      "cell_type": "code",
      "metadata": {
        "id": "C_FU07mxEzxD",
        "outputId": "2f2ad94b-d6f6-45d6-a2f3-415416cb5566",
        "colab": {
          "base_uri": "https://localhost:8080/"
        }
      },
      "source": [
        "a3.shape"
      ],
      "execution_count": null,
      "outputs": [
        {
          "output_type": "execute_result",
          "data": {
            "text/plain": [
              "(2, 3, 3)"
            ]
          },
          "metadata": {
            "tags": []
          },
          "execution_count": 27
        }
      ]
    },
    {
      "cell_type": "code",
      "metadata": {
        "id": "zNu57gHpE1y_",
        "outputId": "828c0e80-0aa0-48d7-a8b4-ce1f32769d8f",
        "colab": {
          "base_uri": "https://localhost:8080/"
        }
      },
      "source": [
        "a3[:2, :2, :2]"
      ],
      "execution_count": null,
      "outputs": [
        {
          "output_type": "execute_result",
          "data": {
            "text/plain": [
              "array([[[ 1,  2],\n",
              "        [ 4,  5]],\n",
              "\n",
              "       [[10, 11],\n",
              "        [13, 14]]])"
            ]
          },
          "metadata": {
            "tags": []
          },
          "execution_count": 28
        }
      ]
    },
    {
      "cell_type": "code",
      "metadata": {
        "id": "2WqtBpFXO5o1",
        "outputId": "daf2a5f0-9c2c-4593-fde5-5194577168fe",
        "colab": {
          "base_uri": "https://localhost:8080/"
        }
      },
      "source": [
        "a4 = np.random.randint(10,size=(2,3,4,5))\n",
        "a4"
      ],
      "execution_count": null,
      "outputs": [
        {
          "output_type": "execute_result",
          "data": {
            "text/plain": [
              "array([[[[3, 5, 8, 8, 7],\n",
              "         [5, 0, 0, 2, 8],\n",
              "         [9, 6, 4, 9, 7],\n",
              "         [3, 3, 8, 3, 0]],\n",
              "\n",
              "        [[1, 0, 0, 6, 7],\n",
              "         [7, 9, 3, 0, 7],\n",
              "         [7, 7, 0, 5, 4],\n",
              "         [3, 1, 3, 1, 3]],\n",
              "\n",
              "        [[4, 3, 1, 9, 5],\n",
              "         [9, 1, 2, 3, 2],\n",
              "         [2, 5, 7, 3, 0],\n",
              "         [9, 9, 3, 4, 5]]],\n",
              "\n",
              "\n",
              "       [[[3, 0, 4, 8, 6],\n",
              "         [7, 2, 7, 3, 8],\n",
              "         [6, 6, 5, 6, 5],\n",
              "         [7, 1, 5, 4, 4]],\n",
              "\n",
              "        [[9, 9, 0, 6, 2],\n",
              "         [6, 8, 2, 4, 1],\n",
              "         [6, 1, 5, 1, 6],\n",
              "         [9, 8, 6, 5, 9]],\n",
              "\n",
              "        [[7, 5, 4, 9, 6],\n",
              "         [8, 1, 5, 5, 8],\n",
              "         [3, 7, 7, 9, 4],\n",
              "         [7, 5, 9, 6, 2]]]])"
            ]
          },
          "metadata": {
            "tags": []
          },
          "execution_count": 29
        }
      ]
    },
    {
      "cell_type": "code",
      "metadata": {
        "id": "Ik9HmpzGP3TY",
        "outputId": "97a898c4-2cf0-4d0a-9976-29c86d6f295b",
        "colab": {
          "base_uri": "https://localhost:8080/"
        }
      },
      "source": [
        "a4.shape , a4.ndim"
      ],
      "execution_count": null,
      "outputs": [
        {
          "output_type": "execute_result",
          "data": {
            "text/plain": [
              "((2, 3, 4, 5), 4)"
            ]
          },
          "metadata": {
            "tags": []
          },
          "execution_count": 30
        }
      ]
    },
    {
      "cell_type": "code",
      "metadata": {
        "id": "HfYffg75QA_F",
        "outputId": "ac765a29-f1f4-4c86-c758-7cacf95a103b",
        "colab": {
          "base_uri": "https://localhost:8080/"
        }
      },
      "source": [
        "# Get the first 4 numbers of the inner most arrays\n",
        "a4[:, :, :, :4]"
      ],
      "execution_count": null,
      "outputs": [
        {
          "output_type": "execute_result",
          "data": {
            "text/plain": [
              "array([[[[3, 5, 8, 8],\n",
              "         [5, 0, 0, 2],\n",
              "         [9, 6, 4, 9],\n",
              "         [3, 3, 8, 3]],\n",
              "\n",
              "        [[1, 0, 0, 6],\n",
              "         [7, 9, 3, 0],\n",
              "         [7, 7, 0, 5],\n",
              "         [3, 1, 3, 1]],\n",
              "\n",
              "        [[4, 3, 1, 9],\n",
              "         [9, 1, 2, 3],\n",
              "         [2, 5, 7, 3],\n",
              "         [9, 9, 3, 4]]],\n",
              "\n",
              "\n",
              "       [[[3, 0, 4, 8],\n",
              "         [7, 2, 7, 3],\n",
              "         [6, 6, 5, 6],\n",
              "         [7, 1, 5, 4]],\n",
              "\n",
              "        [[9, 9, 0, 6],\n",
              "         [6, 8, 2, 4],\n",
              "         [6, 1, 5, 1],\n",
              "         [9, 8, 6, 5]],\n",
              "\n",
              "        [[7, 5, 4, 9],\n",
              "         [8, 1, 5, 5],\n",
              "         [3, 7, 7, 9],\n",
              "         [7, 5, 9, 6]]]])"
            ]
          },
          "metadata": {
            "tags": []
          },
          "execution_count": 31
        }
      ]
    },
    {
      "cell_type": "markdown",
      "metadata": {
        "id": "JTrkJWXLQfVT"
      },
      "source": [
        "## 4.Manipulating & comparing arrays"
      ]
    },
    {
      "cell_type": "markdown",
      "metadata": {
        "id": "Hm11T_LHXMoM"
      },
      "source": [
        "### Arithmetic"
      ]
    },
    {
      "cell_type": "code",
      "metadata": {
        "id": "thYNyWgrXUpo",
        "outputId": "85ffcb05-add7-461f-ee51-4aa4f5c83428",
        "colab": {
          "base_uri": "https://localhost:8080/"
        }
      },
      "source": [
        "a1"
      ],
      "execution_count": null,
      "outputs": [
        {
          "output_type": "execute_result",
          "data": {
            "text/plain": [
              "array([1. , 5. , 7.5])"
            ]
          },
          "metadata": {
            "tags": []
          },
          "execution_count": 32
        }
      ]
    },
    {
      "cell_type": "code",
      "metadata": {
        "id": "Gj62S4xPXZX3",
        "outputId": "0f82e24a-bbbe-4d08-bc12-e4aab97aef74",
        "colab": {
          "base_uri": "https://localhost:8080/"
        }
      },
      "source": [
        "ones = np.ones(3)\n",
        "ones"
      ],
      "execution_count": null,
      "outputs": [
        {
          "output_type": "execute_result",
          "data": {
            "text/plain": [
              "array([1., 1., 1.])"
            ]
          },
          "metadata": {
            "tags": []
          },
          "execution_count": 33
        }
      ]
    },
    {
      "cell_type": "code",
      "metadata": {
        "id": "K_12yDrMXjXf",
        "outputId": "35570f9b-4d0a-4557-a268-edd72719850e",
        "colab": {
          "base_uri": "https://localhost:8080/"
        }
      },
      "source": [
        "a1 + ones"
      ],
      "execution_count": null,
      "outputs": [
        {
          "output_type": "execute_result",
          "data": {
            "text/plain": [
              "array([2. , 6. , 8.5])"
            ]
          },
          "metadata": {
            "tags": []
          },
          "execution_count": 34
        }
      ]
    },
    {
      "cell_type": "code",
      "metadata": {
        "id": "wtTj5XBeXoEs",
        "outputId": "7246dad4-4d84-499c-c6aa-f3d5f4499e5a",
        "colab": {
          "base_uri": "https://localhost:8080/"
        }
      },
      "source": [
        "a1 - ones"
      ],
      "execution_count": null,
      "outputs": [
        {
          "output_type": "execute_result",
          "data": {
            "text/plain": [
              "array([0. , 4. , 6.5])"
            ]
          },
          "metadata": {
            "tags": []
          },
          "execution_count": 35
        }
      ]
    },
    {
      "cell_type": "code",
      "metadata": {
        "id": "vkNyOf_qXwCz",
        "outputId": "090d0868-40c9-42c6-bf86-e5edcd91c2a9",
        "colab": {
          "base_uri": "https://localhost:8080/"
        }
      },
      "source": [
        "a1 * ones"
      ],
      "execution_count": null,
      "outputs": [
        {
          "output_type": "execute_result",
          "data": {
            "text/plain": [
              "array([1. , 5. , 7.5])"
            ]
          },
          "metadata": {
            "tags": []
          },
          "execution_count": 36
        }
      ]
    },
    {
      "cell_type": "code",
      "metadata": {
        "id": "-dXoXLBoXzl4",
        "outputId": "34457e5e-7cc3-4fb7-9ea1-327e1f6067d7",
        "colab": {
          "base_uri": "https://localhost:8080/"
        }
      },
      "source": [
        "a2\n"
      ],
      "execution_count": null,
      "outputs": [
        {
          "output_type": "execute_result",
          "data": {
            "text/plain": [
              "array([[1, 2, 5],\n",
              "       [7, 9, 4]])"
            ]
          },
          "metadata": {
            "tags": []
          },
          "execution_count": 37
        }
      ]
    },
    {
      "cell_type": "code",
      "metadata": {
        "id": "uJF3AtztX2hN",
        "outputId": "3c9ca82c-70c8-4d6f-fa73-c3d1c3d01701",
        "colab": {
          "base_uri": "https://localhost:8080/"
        }
      },
      "source": [
        "a1 * a2"
      ],
      "execution_count": null,
      "outputs": [
        {
          "output_type": "execute_result",
          "data": {
            "text/plain": [
              "array([[ 1. , 10. , 37.5],\n",
              "       [ 7. , 45. , 30. ]])"
            ]
          },
          "metadata": {
            "tags": []
          },
          "execution_count": 38
        }
      ]
    },
    {
      "cell_type": "code",
      "metadata": {
        "id": "PJHKIxmxX_au",
        "outputId": "690f6d86-d322-49ee-d5ec-9d47ad476420",
        "colab": {
          "base_uri": "https://localhost:8080/"
        }
      },
      "source": [
        "# Broadcasting two arrays of different shape\n",
        "a2_1 = a2.reshape(2,3,1)\n",
        "a2_1 * a3"
      ],
      "execution_count": null,
      "outputs": [
        {
          "output_type": "execute_result",
          "data": {
            "text/plain": [
              "array([[[  1,   2,   3],\n",
              "        [  8,  10,  12],\n",
              "        [ 35,  40,  45]],\n",
              "\n",
              "       [[ 70,  77,  84],\n",
              "        [117, 126, 135],\n",
              "        [ 64,  68,  72]]])"
            ]
          },
          "metadata": {
            "tags": []
          },
          "execution_count": 42
        }
      ]
    },
    {
      "cell_type": "code",
      "metadata": {
        "id": "tmzgv05xYNsB",
        "outputId": "c8896763-05b6-4ec3-9e27-88780e7a89e3",
        "colab": {
          "base_uri": "https://localhost:8080/"
        }
      },
      "source": [
        "a1 / ones"
      ],
      "execution_count": null,
      "outputs": [
        {
          "output_type": "execute_result",
          "data": {
            "text/plain": [
              "array([1. , 5. , 7.5])"
            ]
          },
          "metadata": {
            "tags": []
          },
          "execution_count": 43
        }
      ]
    },
    {
      "cell_type": "code",
      "metadata": {
        "id": "jZqjdPcBbudw",
        "outputId": "a896aa92-9cb7-413b-fd28-d217a9607cf9",
        "colab": {
          "base_uri": "https://localhost:8080/"
        }
      },
      "source": [
        "# Floor division removes the decimals (rounds down)\n",
        "a2 // a1"
      ],
      "execution_count": null,
      "outputs": [
        {
          "output_type": "execute_result",
          "data": {
            "text/plain": [
              "array([[1., 0., 0.],\n",
              "       [7., 1., 0.]])"
            ]
          },
          "metadata": {
            "tags": []
          },
          "execution_count": 44
        }
      ]
    },
    {
      "cell_type": "code",
      "metadata": {
        "id": "Tn6n6xoAb55H",
        "outputId": "fb318958-3cea-497c-d536-c03836566547",
        "colab": {
          "base_uri": "https://localhost:8080/"
        }
      },
      "source": [
        "a2 ** 2"
      ],
      "execution_count": null,
      "outputs": [
        {
          "output_type": "execute_result",
          "data": {
            "text/plain": [
              "array([[ 1,  4, 25],\n",
              "       [49, 81, 16]])"
            ]
          },
          "metadata": {
            "tags": []
          },
          "execution_count": 45
        }
      ]
    },
    {
      "cell_type": "code",
      "metadata": {
        "id": "E54F3iOqcD5g",
        "outputId": "41c7f1ae-a954-44d8-d95f-26809ed50d25",
        "colab": {
          "base_uri": "https://localhost:8080/"
        }
      },
      "source": [
        "np.square(a2)"
      ],
      "execution_count": null,
      "outputs": [
        {
          "output_type": "execute_result",
          "data": {
            "text/plain": [
              "array([[ 1,  4, 25],\n",
              "       [49, 81, 16]])"
            ]
          },
          "metadata": {
            "tags": []
          },
          "execution_count": 46
        }
      ]
    },
    {
      "cell_type": "code",
      "metadata": {
        "id": "x-pSvtpwcRNj",
        "outputId": "d801543f-2774-4a22-ae3f-873d1d2b3f22",
        "colab": {
          "base_uri": "https://localhost:8080/"
        }
      },
      "source": [
        "np.add(a1,ones)"
      ],
      "execution_count": null,
      "outputs": [
        {
          "output_type": "execute_result",
          "data": {
            "text/plain": [
              "array([2. , 6. , 8.5])"
            ]
          },
          "metadata": {
            "tags": []
          },
          "execution_count": 47
        }
      ]
    },
    {
      "cell_type": "code",
      "metadata": {
        "id": "Gl-55iODcYkJ",
        "outputId": "fcf07f5b-e040-4ff5-a92c-35dc8d66f877",
        "colab": {
          "base_uri": "https://localhost:8080/"
        }
      },
      "source": [
        "a1 % 2"
      ],
      "execution_count": null,
      "outputs": [
        {
          "output_type": "execute_result",
          "data": {
            "text/plain": [
              "array([1. , 1. , 1.5])"
            ]
          },
          "metadata": {
            "tags": []
          },
          "execution_count": 48
        }
      ]
    },
    {
      "cell_type": "code",
      "metadata": {
        "id": "yEEF4v_Pcb09",
        "outputId": "6c46d7b1-826b-4e53-c924-8b18186c9f6d",
        "colab": {
          "base_uri": "https://localhost:8080/"
        }
      },
      "source": [
        "a1 /2"
      ],
      "execution_count": null,
      "outputs": [
        {
          "output_type": "execute_result",
          "data": {
            "text/plain": [
              "array([0.5 , 2.5 , 3.75])"
            ]
          },
          "metadata": {
            "tags": []
          },
          "execution_count": 49
        }
      ]
    },
    {
      "cell_type": "code",
      "metadata": {
        "id": "qBg0MeAmclAj",
        "outputId": "ad50f602-83f5-4310-feca-835483d16ca7",
        "colab": {
          "base_uri": "https://localhost:8080/"
        }
      },
      "source": [
        "np.exp(a1)"
      ],
      "execution_count": null,
      "outputs": [
        {
          "output_type": "execute_result",
          "data": {
            "text/plain": [
              "array([   2.71828183,  148.4131591 , 1808.04241446])"
            ]
          },
          "metadata": {
            "tags": []
          },
          "execution_count": 51
        }
      ]
    },
    {
      "cell_type": "code",
      "metadata": {
        "id": "arXKuZ2bczS2",
        "outputId": "3961f373-76c1-4ce7-983e-b5a59b4312c5",
        "colab": {
          "base_uri": "https://localhost:8080/"
        }
      },
      "source": [
        "np.log(a1)"
      ],
      "execution_count": null,
      "outputs": [
        {
          "output_type": "execute_result",
          "data": {
            "text/plain": [
              "array([0.        , 1.60943791, 2.01490302])"
            ]
          },
          "metadata": {
            "tags": []
          },
          "execution_count": 52
        }
      ]
    },
    {
      "cell_type": "code",
      "metadata": {
        "id": "p2pH5F_Hc4qu"
      },
      "source": [
        ""
      ],
      "execution_count": null,
      "outputs": []
    }
  ]
}