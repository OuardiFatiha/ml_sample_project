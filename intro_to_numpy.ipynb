{
  "nbformat": 4,
  "nbformat_minor": 0,
  "metadata": {
    "colab": {
      "name": "intro_to_numpy.ipynb",
      "provenance": [],
      "authorship_tag": "ABX9TyPgp+h6MMUAFqpoTf3f5Wnd",
      "include_colab_link": true
    },
    "kernelspec": {
      "name": "python3",
      "display_name": "Python 3"
    }
  },
  "cells": [
    {
      "cell_type": "markdown",
      "metadata": {
        "id": "view-in-github",
        "colab_type": "text"
      },
      "source": [
        "<a href=\"https://colab.research.google.com/github/OuardiFatiha/ml_sample_project/blob/main/intro_to_numpy.ipynb\" target=\"_parent\"><img src=\"https://colab.research.google.com/assets/colab-badge.svg\" alt=\"Open In Colab\"/></a>"
      ]
    },
    {
      "cell_type": "code",
      "metadata": {
        "id": "d49IQKlhuc6V"
      },
      "source": [
        "import numpy as np"
      ],
      "execution_count": 5,
      "outputs": []
    },
    {
      "cell_type": "markdown",
      "metadata": {
        "id": "w6fPZCfCvUbn"
      },
      "source": [
        "## Data Types and Attributes\n",
        "\n",
        "Numpy's main data type is ndarray."
      ]
    },
    {
      "cell_type": "code",
      "metadata": {
        "id": "muFO4XPCvtSu"
      },
      "source": [
        "# control+m+m to turn a cell into markdown in colab"
      ],
      "execution_count": null,
      "outputs": []
    },
    {
      "cell_type": "code",
      "metadata": {
        "id": "KfcCnxL4v7QP",
        "colab": {
          "base_uri": "https://localhost:8080/"
        },
        "outputId": "b1a72038-b4f6-45ad-ae93-5dd5c4a0aa29"
      },
      "source": [
        "# create an ndarray\n",
        "a1=np.array([1,5,7.5])\n",
        "a1"
      ],
      "execution_count": null,
      "outputs": [
        {
          "output_type": "execute_result",
          "data": {
            "text/plain": [
              "array([1. , 5. , 7.5])"
            ]
          },
          "metadata": {
            "tags": []
          },
          "execution_count": 43
        }
      ]
    },
    {
      "cell_type": "code",
      "metadata": {
        "id": "MjYIcUkvwb4D",
        "colab": {
          "base_uri": "https://localhost:8080/"
        },
        "outputId": "8f777199-1bc7-43cc-d099-b02a183c5b84"
      },
      "source": [
        "type(a1)"
      ],
      "execution_count": null,
      "outputs": [
        {
          "output_type": "execute_result",
          "data": {
            "text/plain": [
              "numpy.ndarray"
            ]
          },
          "metadata": {
            "tags": []
          },
          "execution_count": 6
        }
      ]
    },
    {
      "cell_type": "code",
      "metadata": {
        "id": "g0y7e7d2wf7E"
      },
      "source": [
        "a2=np.array([[1,2,5],\n",
        "             [7,9,4]])\n",
        "\n",
        "a3=np.array([[[1,2,3],\n",
        "              [4,5,6],\n",
        "              [7,8,9]],\n",
        "            [[10,11,12],\n",
        "             [13,14,15],\n",
        "             [16,17,18]]])"
      ],
      "execution_count": null,
      "outputs": []
    },
    {
      "cell_type": "code",
      "metadata": {
        "id": "FqicELlQxXY-",
        "colab": {
          "base_uri": "https://localhost:8080/"
        },
        "outputId": "6c2338e0-1518-469f-af5d-adbe8c8a6c61"
      },
      "source": [
        "a2"
      ],
      "execution_count": null,
      "outputs": [
        {
          "output_type": "execute_result",
          "data": {
            "text/plain": [
              "array([[1, 2, 5],\n",
              "       [7, 9, 4]])"
            ]
          },
          "metadata": {
            "tags": []
          },
          "execution_count": 8
        }
      ]
    },
    {
      "cell_type": "code",
      "metadata": {
        "id": "UDd_2NLexbps",
        "colab": {
          "base_uri": "https://localhost:8080/"
        },
        "outputId": "1b7c548a-eefa-4a9a-c5bc-42197b132e39"
      },
      "source": [
        "a3"
      ],
      "execution_count": null,
      "outputs": [
        {
          "output_type": "execute_result",
          "data": {
            "text/plain": [
              "array([[[ 1,  2,  3],\n",
              "        [ 4,  5,  6],\n",
              "        [ 7,  8,  9]],\n",
              "\n",
              "       [[10, 11, 12],\n",
              "        [13, 14, 15],\n",
              "        [16, 17, 18]]])"
            ]
          },
          "metadata": {
            "tags": []
          },
          "execution_count": 11
        }
      ]
    },
    {
      "cell_type": "code",
      "metadata": {
        "id": "83Or_tH-xdFk",
        "colab": {
          "base_uri": "https://localhost:8080/"
        },
        "outputId": "c0f5686c-3ffc-4b38-82a7-1bff605d0bc7"
      },
      "source": [
        "a1.shape , a2.shape , a3.shape"
      ],
      "execution_count": null,
      "outputs": [
        {
          "output_type": "execute_result",
          "data": {
            "text/plain": [
              "((3,), (2, 3), (2, 3, 3))"
            ]
          },
          "metadata": {
            "tags": []
          },
          "execution_count": 12
        }
      ]
    },
    {
      "cell_type": "code",
      "metadata": {
        "id": "r7raApFEyjDl",
        "colab": {
          "base_uri": "https://localhost:8080/"
        },
        "outputId": "9c735f02-8f75-473d-e2b2-bec4c0e74876"
      },
      "source": [
        "a1.ndim , a2.ndim , a3.ndim #ndim for number of dimension"
      ],
      "execution_count": null,
      "outputs": [
        {
          "output_type": "execute_result",
          "data": {
            "text/plain": [
              "(1, 2, 3)"
            ]
          },
          "metadata": {
            "tags": []
          },
          "execution_count": 13
        }
      ]
    },
    {
      "cell_type": "code",
      "metadata": {
        "id": "R_A27We-yc0I",
        "colab": {
          "base_uri": "https://localhost:8080/"
        },
        "outputId": "c7dda322-f6ff-422d-8dad-990f16adc76f"
      },
      "source": [
        "a1.dtype , a2.dtype , a3.dtype"
      ],
      "execution_count": null,
      "outputs": [
        {
          "output_type": "execute_result",
          "data": {
            "text/plain": [
              "(dtype('float64'), dtype('int64'), dtype('int64'))"
            ]
          },
          "metadata": {
            "tags": []
          },
          "execution_count": 14
        }
      ]
    },
    {
      "cell_type": "code",
      "metadata": {
        "id": "OBoRXOOuy1Ku",
        "colab": {
          "base_uri": "https://localhost:8080/"
        },
        "outputId": "1a9458b4-688e-4f8c-cb58-dcb0e3d1ec2d"
      },
      "source": [
        "a1.size , a2.size , a3.size"
      ],
      "execution_count": null,
      "outputs": [
        {
          "output_type": "execute_result",
          "data": {
            "text/plain": [
              "(3, 6, 18)"
            ]
          },
          "metadata": {
            "tags": []
          },
          "execution_count": 15
        }
      ]
    },
    {
      "cell_type": "code",
      "metadata": {
        "id": "FE9tEGQZy9KL",
        "colab": {
          "base_uri": "https://localhost:8080/"
        },
        "outputId": "e6fee882-d3b6-402b-8c48-c567a03c6ac2"
      },
      "source": [
        "type(a1), type(a2), type(a3)"
      ],
      "execution_count": null,
      "outputs": [
        {
          "output_type": "execute_result",
          "data": {
            "text/plain": [
              "(numpy.ndarray, numpy.ndarray, numpy.ndarray)"
            ]
          },
          "metadata": {
            "tags": []
          },
          "execution_count": 16
        }
      ]
    },
    {
      "cell_type": "code",
      "metadata": {
        "id": "-dvEH2dBzHWx",
        "colab": {
          "base_uri": "https://localhost:8080/",
          "height": 112
        },
        "outputId": "b19b492a-f0e8-4140-cbb7-aeab16a02353"
      },
      "source": [
        "# Create a DataFrame for a NumPy Array\n",
        "import pandas as pd\n",
        "\n",
        "df=pd.DataFrame(a2)\n",
        "df"
      ],
      "execution_count": null,
      "outputs": [
        {
          "output_type": "execute_result",
          "data": {
            "text/html": [
              "<div>\n",
              "<style scoped>\n",
              "    .dataframe tbody tr th:only-of-type {\n",
              "        vertical-align: middle;\n",
              "    }\n",
              "\n",
              "    .dataframe tbody tr th {\n",
              "        vertical-align: top;\n",
              "    }\n",
              "\n",
              "    .dataframe thead th {\n",
              "        text-align: right;\n",
              "    }\n",
              "</style>\n",
              "<table border=\"1\" class=\"dataframe\">\n",
              "  <thead>\n",
              "    <tr style=\"text-align: right;\">\n",
              "      <th></th>\n",
              "      <th>0</th>\n",
              "      <th>1</th>\n",
              "      <th>2</th>\n",
              "    </tr>\n",
              "  </thead>\n",
              "  <tbody>\n",
              "    <tr>\n",
              "      <th>0</th>\n",
              "      <td>1</td>\n",
              "      <td>2</td>\n",
              "      <td>5</td>\n",
              "    </tr>\n",
              "    <tr>\n",
              "      <th>1</th>\n",
              "      <td>7</td>\n",
              "      <td>9</td>\n",
              "      <td>4</td>\n",
              "    </tr>\n",
              "  </tbody>\n",
              "</table>\n",
              "</div>"
            ],
            "text/plain": [
              "   0  1  2\n",
              "0  1  2  5\n",
              "1  7  9  4"
            ]
          },
          "metadata": {
            "tags": []
          },
          "execution_count": 18
        }
      ]
    },
    {
      "cell_type": "markdown",
      "metadata": {
        "id": "5JZeVIxKzcHT"
      },
      "source": [
        "## 2.Creating arrays"
      ]
    },
    {
      "cell_type": "code",
      "metadata": {
        "id": "4X8KH5hl5q5k",
        "colab": {
          "base_uri": "https://localhost:8080/"
        },
        "outputId": "a358df4e-89f5-479c-8d12-bdd37783cbe5"
      },
      "source": [
        "sample_array = np.array([1,5,9,3])\n",
        "sample_array"
      ],
      "execution_count": null,
      "outputs": [
        {
          "output_type": "execute_result",
          "data": {
            "text/plain": [
              "array([1, 5, 9, 3])"
            ]
          },
          "metadata": {
            "tags": []
          },
          "execution_count": 23
        }
      ]
    },
    {
      "cell_type": "code",
      "metadata": {
        "id": "HkjNuByi58GT",
        "colab": {
          "base_uri": "https://localhost:8080/"
        },
        "outputId": "f8f2cdc4-7376-4576-8bfa-570115789144"
      },
      "source": [
        "ones =np.ones((2,3),int)\n",
        "ones"
      ],
      "execution_count": null,
      "outputs": [
        {
          "output_type": "execute_result",
          "data": {
            "text/plain": [
              "array([[1, 1, 1],\n",
              "       [1, 1, 1]])"
            ]
          },
          "metadata": {
            "tags": []
          },
          "execution_count": 25
        }
      ]
    },
    {
      "cell_type": "code",
      "metadata": {
        "id": "ZTU6kOdq6sGn",
        "colab": {
          "base_uri": "https://localhost:8080/"
        },
        "outputId": "6d3287df-1c11-48c4-bbb7-8ee06e7efafa"
      },
      "source": [
        "ones.dtype"
      ],
      "execution_count": null,
      "outputs": [
        {
          "output_type": "execute_result",
          "data": {
            "text/plain": [
              "dtype('int64')"
            ]
          },
          "metadata": {
            "tags": []
          },
          "execution_count": 26
        }
      ]
    },
    {
      "cell_type": "code",
      "metadata": {
        "id": "0ksFri-5654Y",
        "colab": {
          "base_uri": "https://localhost:8080/"
        },
        "outputId": "c3471519-eb83-4be1-b18a-61ce8211e406"
      },
      "source": [
        "type(ones)"
      ],
      "execution_count": null,
      "outputs": [
        {
          "output_type": "execute_result",
          "data": {
            "text/plain": [
              "numpy.ndarray"
            ]
          },
          "metadata": {
            "tags": []
          },
          "execution_count": 27
        }
      ]
    },
    {
      "cell_type": "code",
      "metadata": {
        "id": "cYfalPXk68Uj"
      },
      "source": [
        "zeros =np.zeros((2,3))"
      ],
      "execution_count": null,
      "outputs": []
    },
    {
      "cell_type": "code",
      "metadata": {
        "id": "GKNgV65K7I5i",
        "colab": {
          "base_uri": "https://localhost:8080/"
        },
        "outputId": "79e64c6d-134d-432e-8325-895c23436b36"
      },
      "source": [
        "zeros"
      ],
      "execution_count": null,
      "outputs": [
        {
          "output_type": "execute_result",
          "data": {
            "text/plain": [
              "array([[0., 0., 0.],\n",
              "       [0., 0., 0.]])"
            ]
          },
          "metadata": {
            "tags": []
          },
          "execution_count": 29
        }
      ]
    },
    {
      "cell_type": "code",
      "metadata": {
        "id": "spzsZXhW7KLG",
        "colab": {
          "base_uri": "https://localhost:8080/"
        },
        "outputId": "8c047fe2-791e-46f3-ca7a-e63e47b20e03"
      },
      "source": [
        "range_array = np.arange(0,10,2)\n",
        "range_array"
      ],
      "execution_count": null,
      "outputs": [
        {
          "output_type": "execute_result",
          "data": {
            "text/plain": [
              "array([0, 2, 4, 6, 8])"
            ]
          },
          "metadata": {
            "tags": []
          },
          "execution_count": 30
        }
      ]
    },
    {
      "cell_type": "code",
      "metadata": {
        "id": "shobRqxn7mew",
        "colab": {
          "base_uri": "https://localhost:8080/"
        },
        "outputId": "47095e30-6a78-4a1b-bc0d-c46ec7b81dcc"
      },
      "source": [
        "random_array = np.random.randint(0,10,size=(2,3))\n",
        "random_array"
      ],
      "execution_count": null,
      "outputs": [
        {
          "output_type": "execute_result",
          "data": {
            "text/plain": [
              "array([[1, 4, 0],\n",
              "       [4, 2, 1]])"
            ]
          },
          "metadata": {
            "tags": []
          },
          "execution_count": 31
        }
      ]
    },
    {
      "cell_type": "code",
      "metadata": {
        "id": "xszsjP7R8Jv_",
        "colab": {
          "base_uri": "https://localhost:8080/"
        },
        "outputId": "236d4e45-5ffe-4b11-9d50-4007a374d3f4"
      },
      "source": [
        "random_array.size"
      ],
      "execution_count": null,
      "outputs": [
        {
          "output_type": "execute_result",
          "data": {
            "text/plain": [
              "6"
            ]
          },
          "metadata": {
            "tags": []
          },
          "execution_count": 32
        }
      ]
    },
    {
      "cell_type": "code",
      "metadata": {
        "id": "oU5-Ebau8NFy",
        "colab": {
          "base_uri": "https://localhost:8080/"
        },
        "outputId": "ba2a40b5-7bec-4607-d773-69bc333a983e"
      },
      "source": [
        "random_array.shape"
      ],
      "execution_count": null,
      "outputs": [
        {
          "output_type": "execute_result",
          "data": {
            "text/plain": [
              "(2, 3)"
            ]
          },
          "metadata": {
            "tags": []
          },
          "execution_count": 33
        }
      ]
    },
    {
      "cell_type": "code",
      "metadata": {
        "id": "hw9lrcL68Phz",
        "colab": {
          "base_uri": "https://localhost:8080/"
        },
        "outputId": "211d9b36-4e1a-4339-cfc6-1145f164e6b0"
      },
      "source": [
        "random_array_2 = np.random.random((3,5))\n",
        "random_array_2"
      ],
      "execution_count": null,
      "outputs": [
        {
          "output_type": "execute_result",
          "data": {
            "text/plain": [
              "array([[0.00960524, 0.8828524 , 0.2902946 , 0.9406788 , 0.0159281 ],\n",
              "       [0.96260172, 0.46262807, 0.21087847, 0.16058261, 0.96056272],\n",
              "       [0.88471128, 0.37204978, 0.49708224, 0.38181298, 0.39911377]])"
            ]
          },
          "metadata": {
            "tags": []
          },
          "execution_count": 34
        }
      ]
    },
    {
      "cell_type": "code",
      "metadata": {
        "id": "zsWJ2aV28nGz",
        "colab": {
          "base_uri": "https://localhost:8080/"
        },
        "outputId": "085ee606-2226-4d2d-b846-ccefce0b8fa1"
      },
      "source": [
        "random_array_2.shape"
      ],
      "execution_count": null,
      "outputs": [
        {
          "output_type": "execute_result",
          "data": {
            "text/plain": [
              "(3, 5)"
            ]
          },
          "metadata": {
            "tags": []
          },
          "execution_count": 36
        }
      ]
    },
    {
      "cell_type": "code",
      "metadata": {
        "id": "l0BzDuCo8rPR",
        "colab": {
          "base_uri": "https://localhost:8080/"
        },
        "outputId": "fa7c66ef-86dd-4b1f-da82-49526266a3bd"
      },
      "source": [
        "random_array_3 = np.random.rand(5,3)\n",
        "random_array_3"
      ],
      "execution_count": null,
      "outputs": [
        {
          "output_type": "execute_result",
          "data": {
            "text/plain": [
              "array([[0.34065741, 0.42401492, 0.91016497],\n",
              "       [0.41959932, 0.4966997 , 0.43433846],\n",
              "       [0.97087421, 0.86969568, 0.66348007],\n",
              "       [0.57820564, 0.51649553, 0.1811319 ],\n",
              "       [0.79918127, 0.27209335, 0.90588938]])"
            ]
          },
          "metadata": {
            "tags": []
          },
          "execution_count": 38
        }
      ]
    },
    {
      "cell_type": "code",
      "metadata": {
        "id": "xnq0H1kN9H_3",
        "colab": {
          "base_uri": "https://localhost:8080/"
        },
        "outputId": "e6655678-46a6-48f9-f35b-82660650f59d"
      },
      "source": [
        "# Pseudo_random numbers\n",
        "np.random.seed(seed=0)\n",
        "random_array_4 = np.random.randint(10,size=(2,3))\n",
        "random_array_4"
      ],
      "execution_count": null,
      "outputs": [
        {
          "output_type": "execute_result",
          "data": {
            "text/plain": [
              "array([[5, 0, 3],\n",
              "       [3, 7, 9]])"
            ]
          },
          "metadata": {
            "tags": []
          },
          "execution_count": 10
        }
      ]
    },
    {
      "cell_type": "code",
      "metadata": {
        "id": "Fs65Ky679bMD",
        "colab": {
          "base_uri": "https://localhost:8080/"
        },
        "outputId": "328964a3-135a-4b62-c4f3-b15df99abceb"
      },
      "source": [
        "random_array_4.shape"
      ],
      "execution_count": null,
      "outputs": [
        {
          "output_type": "execute_result",
          "data": {
            "text/plain": [
              "(2, 3)"
            ]
          },
          "metadata": {
            "tags": []
          },
          "execution_count": 4
        }
      ]
    },
    {
      "cell_type": "code",
      "metadata": {
        "id": "XBoUQso3AoSA",
        "colab": {
          "base_uri": "https://localhost:8080/"
        },
        "outputId": "fef94415-7036-4d77-b0c8-0947693d6279"
      },
      "source": [
        "np.random.seed(7)\n",
        "random_array_5 = np.random.random((5,3))\n",
        "random_array_5"
      ],
      "execution_count": null,
      "outputs": [
        {
          "output_type": "execute_result",
          "data": {
            "text/plain": [
              "array([[0.07630829, 0.77991879, 0.43840923],\n",
              "       [0.72346518, 0.97798951, 0.53849587],\n",
              "       [0.50112046, 0.07205113, 0.26843898],\n",
              "       [0.4998825 , 0.67923   , 0.80373904],\n",
              "       [0.38094113, 0.06593635, 0.2881456 ]])"
            ]
          },
          "metadata": {
            "tags": []
          },
          "execution_count": 16
        }
      ]
    },
    {
      "cell_type": "markdown",
      "metadata": {
        "id": "P_Pdnjk4Bsxf"
      },
      "source": [
        "## 3.Viewing arrays and matrices"
      ]
    },
    {
      "cell_type": "code",
      "metadata": {
        "id": "NlQchZu3DJCx",
        "colab": {
          "base_uri": "https://localhost:8080/"
        },
        "outputId": "e6576d4b-8c25-4b8b-f795-5a07477257b8"
      },
      "source": [
        "np.unique(random_array_4)"
      ],
      "execution_count": null,
      "outputs": [
        {
          "output_type": "execute_result",
          "data": {
            "text/plain": [
              "array([0, 3, 5, 7, 9])"
            ]
          },
          "metadata": {
            "tags": []
          },
          "execution_count": 17
        }
      ]
    },
    {
      "cell_type": "code",
      "metadata": {
        "id": "Jr8ggIMAD3MA",
        "colab": {
          "base_uri": "https://localhost:8080/"
        },
        "outputId": "aee16d9f-fab0-46bf-b5c1-dc203c8aa50d"
      },
      "source": [
        "a1[0]"
      ],
      "execution_count": null,
      "outputs": [
        {
          "output_type": "execute_result",
          "data": {
            "text/plain": [
              "1.0"
            ]
          },
          "metadata": {
            "tags": []
          },
          "execution_count": 21
        }
      ]
    },
    {
      "cell_type": "code",
      "metadata": {
        "id": "-CuuHg5ZEXDC",
        "colab": {
          "base_uri": "https://localhost:8080/"
        },
        "outputId": "013e1e2d-80ce-45cc-97c2-9acb798943ac"
      },
      "source": [
        "a1"
      ],
      "execution_count": null,
      "outputs": [
        {
          "output_type": "execute_result",
          "data": {
            "text/plain": [
              "array([1. , 5. , 7.5])"
            ]
          },
          "metadata": {
            "tags": []
          },
          "execution_count": 22
        }
      ]
    },
    {
      "cell_type": "code",
      "metadata": {
        "id": "1mT_KO3WEr8M",
        "colab": {
          "base_uri": "https://localhost:8080/"
        },
        "outputId": "629022a6-0707-4ccb-b064-1c711be3392c"
      },
      "source": [
        "a2[0]"
      ],
      "execution_count": null,
      "outputs": [
        {
          "output_type": "execute_result",
          "data": {
            "text/plain": [
              "array([1, 2, 5])"
            ]
          },
          "metadata": {
            "tags": []
          },
          "execution_count": 23
        }
      ]
    },
    {
      "cell_type": "code",
      "metadata": {
        "id": "6wQrpFkTEtsN",
        "colab": {
          "base_uri": "https://localhost:8080/"
        },
        "outputId": "5105205d-51fc-4673-8bf0-a36c4c8f4fb3"
      },
      "source": [
        "a2"
      ],
      "execution_count": null,
      "outputs": [
        {
          "output_type": "execute_result",
          "data": {
            "text/plain": [
              "array([[1, 2, 5],\n",
              "       [7, 9, 4]])"
            ]
          },
          "metadata": {
            "tags": []
          },
          "execution_count": 24
        }
      ]
    },
    {
      "cell_type": "code",
      "metadata": {
        "id": "EWubZ42fEuy3",
        "colab": {
          "base_uri": "https://localhost:8080/"
        },
        "outputId": "82c5fe12-0b5d-4de5-c618-24bc6400ff2b"
      },
      "source": [
        "a3[0]"
      ],
      "execution_count": null,
      "outputs": [
        {
          "output_type": "execute_result",
          "data": {
            "text/plain": [
              "array([[1, 2, 3],\n",
              "       [4, 5, 6],\n",
              "       [7, 8, 9]])"
            ]
          },
          "metadata": {
            "tags": []
          },
          "execution_count": 25
        }
      ]
    },
    {
      "cell_type": "code",
      "metadata": {
        "id": "9qH387LAEx8B",
        "colab": {
          "base_uri": "https://localhost:8080/"
        },
        "outputId": "ffaf133a-ed6f-4c69-b077-cab42ec31365"
      },
      "source": [
        "a3"
      ],
      "execution_count": null,
      "outputs": [
        {
          "output_type": "execute_result",
          "data": {
            "text/plain": [
              "array([[[ 1,  2,  3],\n",
              "        [ 4,  5,  6],\n",
              "        [ 7,  8,  9]],\n",
              "\n",
              "       [[10, 11, 12],\n",
              "        [13, 14, 15],\n",
              "        [16, 17, 18]]])"
            ]
          },
          "metadata": {
            "tags": []
          },
          "execution_count": 26
        }
      ]
    },
    {
      "cell_type": "code",
      "metadata": {
        "id": "C_FU07mxEzxD",
        "colab": {
          "base_uri": "https://localhost:8080/"
        },
        "outputId": "2f2ad94b-d6f6-45d6-a2f3-415416cb5566"
      },
      "source": [
        "a3.shape"
      ],
      "execution_count": null,
      "outputs": [
        {
          "output_type": "execute_result",
          "data": {
            "text/plain": [
              "(2, 3, 3)"
            ]
          },
          "metadata": {
            "tags": []
          },
          "execution_count": 27
        }
      ]
    },
    {
      "cell_type": "code",
      "metadata": {
        "id": "zNu57gHpE1y_",
        "colab": {
          "base_uri": "https://localhost:8080/"
        },
        "outputId": "828c0e80-0aa0-48d7-a8b4-ce1f32769d8f"
      },
      "source": [
        "a3[:2, :2, :2]"
      ],
      "execution_count": null,
      "outputs": [
        {
          "output_type": "execute_result",
          "data": {
            "text/plain": [
              "array([[[ 1,  2],\n",
              "        [ 4,  5]],\n",
              "\n",
              "       [[10, 11],\n",
              "        [13, 14]]])"
            ]
          },
          "metadata": {
            "tags": []
          },
          "execution_count": 28
        }
      ]
    },
    {
      "cell_type": "code",
      "metadata": {
        "id": "2WqtBpFXO5o1",
        "colab": {
          "base_uri": "https://localhost:8080/"
        },
        "outputId": "daf2a5f0-9c2c-4593-fde5-5194577168fe"
      },
      "source": [
        "a4 = np.random.randint(10,size=(2,3,4,5))\n",
        "a4"
      ],
      "execution_count": null,
      "outputs": [
        {
          "output_type": "execute_result",
          "data": {
            "text/plain": [
              "array([[[[3, 5, 8, 8, 7],\n",
              "         [5, 0, 0, 2, 8],\n",
              "         [9, 6, 4, 9, 7],\n",
              "         [3, 3, 8, 3, 0]],\n",
              "\n",
              "        [[1, 0, 0, 6, 7],\n",
              "         [7, 9, 3, 0, 7],\n",
              "         [7, 7, 0, 5, 4],\n",
              "         [3, 1, 3, 1, 3]],\n",
              "\n",
              "        [[4, 3, 1, 9, 5],\n",
              "         [9, 1, 2, 3, 2],\n",
              "         [2, 5, 7, 3, 0],\n",
              "         [9, 9, 3, 4, 5]]],\n",
              "\n",
              "\n",
              "       [[[3, 0, 4, 8, 6],\n",
              "         [7, 2, 7, 3, 8],\n",
              "         [6, 6, 5, 6, 5],\n",
              "         [7, 1, 5, 4, 4]],\n",
              "\n",
              "        [[9, 9, 0, 6, 2],\n",
              "         [6, 8, 2, 4, 1],\n",
              "         [6, 1, 5, 1, 6],\n",
              "         [9, 8, 6, 5, 9]],\n",
              "\n",
              "        [[7, 5, 4, 9, 6],\n",
              "         [8, 1, 5, 5, 8],\n",
              "         [3, 7, 7, 9, 4],\n",
              "         [7, 5, 9, 6, 2]]]])"
            ]
          },
          "metadata": {
            "tags": []
          },
          "execution_count": 29
        }
      ]
    },
    {
      "cell_type": "code",
      "metadata": {
        "id": "Ik9HmpzGP3TY",
        "colab": {
          "base_uri": "https://localhost:8080/"
        },
        "outputId": "97a898c4-2cf0-4d0a-9976-29c86d6f295b"
      },
      "source": [
        "a4.shape , a4.ndim"
      ],
      "execution_count": null,
      "outputs": [
        {
          "output_type": "execute_result",
          "data": {
            "text/plain": [
              "((2, 3, 4, 5), 4)"
            ]
          },
          "metadata": {
            "tags": []
          },
          "execution_count": 30
        }
      ]
    },
    {
      "cell_type": "code",
      "metadata": {
        "id": "HfYffg75QA_F",
        "colab": {
          "base_uri": "https://localhost:8080/"
        },
        "outputId": "ac765a29-f1f4-4c86-c758-7cacf95a103b"
      },
      "source": [
        "# Get the first 4 numbers of the inner most arrays\n",
        "a4[:, :, :, :4]"
      ],
      "execution_count": null,
      "outputs": [
        {
          "output_type": "execute_result",
          "data": {
            "text/plain": [
              "array([[[[3, 5, 8, 8],\n",
              "         [5, 0, 0, 2],\n",
              "         [9, 6, 4, 9],\n",
              "         [3, 3, 8, 3]],\n",
              "\n",
              "        [[1, 0, 0, 6],\n",
              "         [7, 9, 3, 0],\n",
              "         [7, 7, 0, 5],\n",
              "         [3, 1, 3, 1]],\n",
              "\n",
              "        [[4, 3, 1, 9],\n",
              "         [9, 1, 2, 3],\n",
              "         [2, 5, 7, 3],\n",
              "         [9, 9, 3, 4]]],\n",
              "\n",
              "\n",
              "       [[[3, 0, 4, 8],\n",
              "         [7, 2, 7, 3],\n",
              "         [6, 6, 5, 6],\n",
              "         [7, 1, 5, 4]],\n",
              "\n",
              "        [[9, 9, 0, 6],\n",
              "         [6, 8, 2, 4],\n",
              "         [6, 1, 5, 1],\n",
              "         [9, 8, 6, 5]],\n",
              "\n",
              "        [[7, 5, 4, 9],\n",
              "         [8, 1, 5, 5],\n",
              "         [3, 7, 7, 9],\n",
              "         [7, 5, 9, 6]]]])"
            ]
          },
          "metadata": {
            "tags": []
          },
          "execution_count": 31
        }
      ]
    },
    {
      "cell_type": "markdown",
      "metadata": {
        "id": "JTrkJWXLQfVT"
      },
      "source": [
        "## 4.Manipulating & comparing arrays"
      ]
    },
    {
      "cell_type": "markdown",
      "metadata": {
        "id": "Hm11T_LHXMoM"
      },
      "source": [
        "### Arithmetic"
      ]
    },
    {
      "cell_type": "code",
      "metadata": {
        "id": "thYNyWgrXUpo",
        "colab": {
          "base_uri": "https://localhost:8080/"
        },
        "outputId": "85ffcb05-add7-461f-ee51-4aa4f5c83428"
      },
      "source": [
        "a1"
      ],
      "execution_count": null,
      "outputs": [
        {
          "output_type": "execute_result",
          "data": {
            "text/plain": [
              "array([1. , 5. , 7.5])"
            ]
          },
          "metadata": {
            "tags": []
          },
          "execution_count": 32
        }
      ]
    },
    {
      "cell_type": "code",
      "metadata": {
        "id": "Gj62S4xPXZX3",
        "colab": {
          "base_uri": "https://localhost:8080/"
        },
        "outputId": "0f82e24a-bbbe-4d08-bc12-e4aab97aef74"
      },
      "source": [
        "ones = np.ones(3)\n",
        "ones"
      ],
      "execution_count": null,
      "outputs": [
        {
          "output_type": "execute_result",
          "data": {
            "text/plain": [
              "array([1., 1., 1.])"
            ]
          },
          "metadata": {
            "tags": []
          },
          "execution_count": 33
        }
      ]
    },
    {
      "cell_type": "code",
      "metadata": {
        "id": "K_12yDrMXjXf",
        "colab": {
          "base_uri": "https://localhost:8080/"
        },
        "outputId": "35570f9b-4d0a-4557-a268-edd72719850e"
      },
      "source": [
        "a1 + ones"
      ],
      "execution_count": null,
      "outputs": [
        {
          "output_type": "execute_result",
          "data": {
            "text/plain": [
              "array([2. , 6. , 8.5])"
            ]
          },
          "metadata": {
            "tags": []
          },
          "execution_count": 34
        }
      ]
    },
    {
      "cell_type": "code",
      "metadata": {
        "id": "wtTj5XBeXoEs",
        "colab": {
          "base_uri": "https://localhost:8080/"
        },
        "outputId": "7246dad4-4d84-499c-c6aa-f3d5f4499e5a"
      },
      "source": [
        "a1 - ones"
      ],
      "execution_count": null,
      "outputs": [
        {
          "output_type": "execute_result",
          "data": {
            "text/plain": [
              "array([0. , 4. , 6.5])"
            ]
          },
          "metadata": {
            "tags": []
          },
          "execution_count": 35
        }
      ]
    },
    {
      "cell_type": "code",
      "metadata": {
        "id": "vkNyOf_qXwCz",
        "colab": {
          "base_uri": "https://localhost:8080/"
        },
        "outputId": "090d0868-40c9-42c6-bf86-e5edcd91c2a9"
      },
      "source": [
        "a1 * ones"
      ],
      "execution_count": null,
      "outputs": [
        {
          "output_type": "execute_result",
          "data": {
            "text/plain": [
              "array([1. , 5. , 7.5])"
            ]
          },
          "metadata": {
            "tags": []
          },
          "execution_count": 36
        }
      ]
    },
    {
      "cell_type": "code",
      "metadata": {
        "id": "-dXoXLBoXzl4",
        "colab": {
          "base_uri": "https://localhost:8080/"
        },
        "outputId": "34457e5e-7cc3-4fb7-9ea1-327e1f6067d7"
      },
      "source": [
        "a2\n"
      ],
      "execution_count": null,
      "outputs": [
        {
          "output_type": "execute_result",
          "data": {
            "text/plain": [
              "array([[1, 2, 5],\n",
              "       [7, 9, 4]])"
            ]
          },
          "metadata": {
            "tags": []
          },
          "execution_count": 37
        }
      ]
    },
    {
      "cell_type": "code",
      "metadata": {
        "id": "uJF3AtztX2hN",
        "colab": {
          "base_uri": "https://localhost:8080/"
        },
        "outputId": "3c9ca82c-70c8-4d6f-fa73-c3d1c3d01701"
      },
      "source": [
        "a1 * a2"
      ],
      "execution_count": null,
      "outputs": [
        {
          "output_type": "execute_result",
          "data": {
            "text/plain": [
              "array([[ 1. , 10. , 37.5],\n",
              "       [ 7. , 45. , 30. ]])"
            ]
          },
          "metadata": {
            "tags": []
          },
          "execution_count": 38
        }
      ]
    },
    {
      "cell_type": "code",
      "metadata": {
        "id": "PJHKIxmxX_au",
        "colab": {
          "base_uri": "https://localhost:8080/"
        },
        "outputId": "690f6d86-d322-49ee-d5ec-9d47ad476420"
      },
      "source": [
        "# Broadcasting two arrays of different shape\n",
        "a2_1 = a2.reshape(2,3,1)\n",
        "a2_1 * a3"
      ],
      "execution_count": null,
      "outputs": [
        {
          "output_type": "execute_result",
          "data": {
            "text/plain": [
              "array([[[  1,   2,   3],\n",
              "        [  8,  10,  12],\n",
              "        [ 35,  40,  45]],\n",
              "\n",
              "       [[ 70,  77,  84],\n",
              "        [117, 126, 135],\n",
              "        [ 64,  68,  72]]])"
            ]
          },
          "metadata": {
            "tags": []
          },
          "execution_count": 42
        }
      ]
    },
    {
      "cell_type": "code",
      "metadata": {
        "id": "tmzgv05xYNsB",
        "colab": {
          "base_uri": "https://localhost:8080/"
        },
        "outputId": "c8896763-05b6-4ec3-9e27-88780e7a89e3"
      },
      "source": [
        "a1 / ones"
      ],
      "execution_count": null,
      "outputs": [
        {
          "output_type": "execute_result",
          "data": {
            "text/plain": [
              "array([1. , 5. , 7.5])"
            ]
          },
          "metadata": {
            "tags": []
          },
          "execution_count": 43
        }
      ]
    },
    {
      "cell_type": "code",
      "metadata": {
        "id": "jZqjdPcBbudw",
        "colab": {
          "base_uri": "https://localhost:8080/"
        },
        "outputId": "a896aa92-9cb7-413b-fd28-d217a9607cf9"
      },
      "source": [
        "# Floor division removes the decimals (rounds down)\n",
        "a2 // a1"
      ],
      "execution_count": null,
      "outputs": [
        {
          "output_type": "execute_result",
          "data": {
            "text/plain": [
              "array([[1., 0., 0.],\n",
              "       [7., 1., 0.]])"
            ]
          },
          "metadata": {
            "tags": []
          },
          "execution_count": 44
        }
      ]
    },
    {
      "cell_type": "code",
      "metadata": {
        "id": "Tn6n6xoAb55H",
        "colab": {
          "base_uri": "https://localhost:8080/"
        },
        "outputId": "fb318958-3cea-497c-d536-c03836566547"
      },
      "source": [
        "a2 ** 2"
      ],
      "execution_count": null,
      "outputs": [
        {
          "output_type": "execute_result",
          "data": {
            "text/plain": [
              "array([[ 1,  4, 25],\n",
              "       [49, 81, 16]])"
            ]
          },
          "metadata": {
            "tags": []
          },
          "execution_count": 45
        }
      ]
    },
    {
      "cell_type": "code",
      "metadata": {
        "id": "E54F3iOqcD5g",
        "colab": {
          "base_uri": "https://localhost:8080/"
        },
        "outputId": "41c7f1ae-a954-44d8-d95f-26809ed50d25"
      },
      "source": [
        "np.square(a2)"
      ],
      "execution_count": null,
      "outputs": [
        {
          "output_type": "execute_result",
          "data": {
            "text/plain": [
              "array([[ 1,  4, 25],\n",
              "       [49, 81, 16]])"
            ]
          },
          "metadata": {
            "tags": []
          },
          "execution_count": 46
        }
      ]
    },
    {
      "cell_type": "code",
      "metadata": {
        "id": "x-pSvtpwcRNj",
        "colab": {
          "base_uri": "https://localhost:8080/"
        },
        "outputId": "d801543f-2774-4a22-ae3f-873d1d2b3f22"
      },
      "source": [
        "np.add(a1,ones)"
      ],
      "execution_count": null,
      "outputs": [
        {
          "output_type": "execute_result",
          "data": {
            "text/plain": [
              "array([2. , 6. , 8.5])"
            ]
          },
          "metadata": {
            "tags": []
          },
          "execution_count": 47
        }
      ]
    },
    {
      "cell_type": "code",
      "metadata": {
        "id": "Gl-55iODcYkJ",
        "colab": {
          "base_uri": "https://localhost:8080/"
        },
        "outputId": "fcf07f5b-e040-4ff5-a92c-35dc8d66f877"
      },
      "source": [
        "a1 % 2"
      ],
      "execution_count": null,
      "outputs": [
        {
          "output_type": "execute_result",
          "data": {
            "text/plain": [
              "array([1. , 1. , 1.5])"
            ]
          },
          "metadata": {
            "tags": []
          },
          "execution_count": 48
        }
      ]
    },
    {
      "cell_type": "code",
      "metadata": {
        "id": "yEEF4v_Pcb09",
        "colab": {
          "base_uri": "https://localhost:8080/"
        },
        "outputId": "6c46d7b1-826b-4e53-c924-8b18186c9f6d"
      },
      "source": [
        "a1 /2"
      ],
      "execution_count": null,
      "outputs": [
        {
          "output_type": "execute_result",
          "data": {
            "text/plain": [
              "array([0.5 , 2.5 , 3.75])"
            ]
          },
          "metadata": {
            "tags": []
          },
          "execution_count": 49
        }
      ]
    },
    {
      "cell_type": "code",
      "metadata": {
        "id": "qBg0MeAmclAj",
        "colab": {
          "base_uri": "https://localhost:8080/"
        },
        "outputId": "ad50f602-83f5-4310-feca-835483d16ca7"
      },
      "source": [
        "np.exp(a1)"
      ],
      "execution_count": null,
      "outputs": [
        {
          "output_type": "execute_result",
          "data": {
            "text/plain": [
              "array([   2.71828183,  148.4131591 , 1808.04241446])"
            ]
          },
          "metadata": {
            "tags": []
          },
          "execution_count": 51
        }
      ]
    },
    {
      "cell_type": "code",
      "metadata": {
        "id": "arXKuZ2bczS2",
        "colab": {
          "base_uri": "https://localhost:8080/"
        },
        "outputId": "3961f373-76c1-4ce7-983e-b5a59b4312c5"
      },
      "source": [
        "np.log(a1)"
      ],
      "execution_count": null,
      "outputs": [
        {
          "output_type": "execute_result",
          "data": {
            "text/plain": [
              "array([0.        , 1.60943791, 2.01490302])"
            ]
          },
          "metadata": {
            "tags": []
          },
          "execution_count": 52
        }
      ]
    },
    {
      "cell_type": "markdown",
      "metadata": {
        "id": "p2pH5F_Hc4qu"
      },
      "source": [
        "### Aggregation\n",
        "Performing the same operation on a number of things.\n",
        "\n"
      ]
    },
    {
      "cell_type": "code",
      "metadata": {
        "id": "9tyE_B2B39Q-",
        "colab": {
          "base_uri": "https://localhost:8080/"
        },
        "outputId": "94afcb22-59f5-4bae-e82c-be716f1a0500"
      },
      "source": [
        "listy_list = [1, 2, 4, 5]\n",
        "type(listy_list)\n",
        "sum(listy_list)"
      ],
      "execution_count": null,
      "outputs": [
        {
          "output_type": "execute_result",
          "data": {
            "text/plain": [
              "12"
            ]
          },
          "metadata": {
            "tags": []
          },
          "execution_count": 2
        }
      ]
    },
    {
      "cell_type": "code",
      "metadata": {
        "id": "AsMTnKn84cYC",
        "colab": {
          "base_uri": "https://localhost:8080/"
        },
        "outputId": "a5d318d0-567e-4d69-899c-f121d1ca65e7"
      },
      "source": [
        "sum(a1)"
      ],
      "execution_count": null,
      "outputs": [
        {
          "output_type": "execute_result",
          "data": {
            "text/plain": [
              "13.5"
            ]
          },
          "metadata": {
            "tags": []
          },
          "execution_count": 4
        }
      ]
    },
    {
      "cell_type": "code",
      "metadata": {
        "id": "-ghY7lPY41Fs",
        "colab": {
          "base_uri": "https://localhost:8080/"
        },
        "outputId": "27907aff-3a18-432d-dc42-3d15c69a68dc"
      },
      "source": [
        "np.sum(a1)"
      ],
      "execution_count": null,
      "outputs": [
        {
          "output_type": "execute_result",
          "data": {
            "text/plain": [
              "13.5"
            ]
          },
          "metadata": {
            "tags": []
          },
          "execution_count": 5
        }
      ]
    },
    {
      "cell_type": "markdown",
      "metadata": {
        "id": "Izm-ljBK43_i"
      },
      "source": [
        "Use Python's methods on Python datatypes (`sum()`) and NymPy's method on NumPy's arrays (`np.sum()`)"
      ]
    },
    {
      "cell_type": "code",
      "metadata": {
        "id": "tFM-IhUb6A8N",
        "colab": {
          "base_uri": "https://localhost:8080/"
        },
        "outputId": "eea6fc7e-6da5-46db-9de4-33ec71a3a02b"
      },
      "source": [
        "# Create a massive array\n",
        "massive_array = np.random.random(10000)\n",
        "massive_array.size"
      ],
      "execution_count": null,
      "outputs": [
        {
          "output_type": "execute_result",
          "data": {
            "text/plain": [
              "10000"
            ]
          },
          "metadata": {
            "tags": []
          },
          "execution_count": 6
        }
      ]
    },
    {
      "cell_type": "code",
      "metadata": {
        "id": "Yx5GPG9o6QIW",
        "colab": {
          "base_uri": "https://localhost:8080/"
        },
        "outputId": "b33f8e06-c130-4a0a-c1ad-a22110af910d"
      },
      "source": [
        "massive_array[:10]"
      ],
      "execution_count": null,
      "outputs": [
        {
          "output_type": "execute_result",
          "data": {
            "text/plain": [
              "array([0.03504593, 0.98858075, 0.18200276, 0.96887217, 0.31544848,\n",
              "       0.41034462, 0.37862868, 0.30446717, 0.13572986, 0.21641119])"
            ]
          },
          "metadata": {
            "tags": []
          },
          "execution_count": 8
        }
      ]
    },
    {
      "cell_type": "code",
      "metadata": {
        "id": "pkJE5moV6V1M",
        "colab": {
          "base_uri": "https://localhost:8080/"
        },
        "outputId": "166d329c-6f65-4033-80b6-44e98a11c185"
      },
      "source": [
        "%timeit sum(massive_array) #Python's sum\n",
        "%timeit np.sum(massive_array) #NumPy's sum"
      ],
      "execution_count": null,
      "outputs": [
        {
          "output_type": "stream",
          "text": [
            "1000 loops, best of 3: 1.62 ms per loop\n",
            "The slowest run took 11.25 times longer than the fastest. This could mean that an intermediate result is being cached.\n",
            "100000 loops, best of 3: 7.5 µs per loop\n"
          ],
          "name": "stdout"
        }
      ]
    },
    {
      "cell_type": "code",
      "metadata": {
        "id": "B9ujx4FE7cOp",
        "colab": {
          "base_uri": "https://localhost:8080/"
        },
        "outputId": "dc48d312-912c-4bca-b528-89bc9fabd2f7"
      },
      "source": [
        "1620 / 7.5"
      ],
      "execution_count": null,
      "outputs": [
        {
          "output_type": "execute_result",
          "data": {
            "text/plain": [
              "216.0"
            ]
          },
          "metadata": {
            "tags": []
          },
          "execution_count": 10
        }
      ]
    },
    {
      "cell_type": "code",
      "metadata": {
        "id": "bdtn5eQ47fs7",
        "colab": {
          "base_uri": "https://localhost:8080/"
        },
        "outputId": "51760a3e-24c7-4f69-adc9-479fb87d8828"
      },
      "source": [
        "np.mean(a2)\n",
        "np.max(a2)\n",
        "np.min(a2)\n",
        "np.std(a2) #Standard Deviation is a measure of how spread out a group of numbers from the mean\n",
        "np.var(a2) #Variance is a measure of the average degree to which each number is different from the mean"
      ],
      "execution_count": null,
      "outputs": [
        {
          "output_type": "execute_result",
          "data": {
            "text/plain": [
              "7.5555555555555545"
            ]
          },
          "metadata": {
            "tags": []
          },
          "execution_count": 13
        }
      ]
    },
    {
      "cell_type": "code",
      "metadata": {
        "id": "Zfdnj5Gz83oR",
        "colab": {
          "base_uri": "https://localhost:8080/"
        },
        "outputId": "fcd6d7e9-66a7-495b-f875-2948e6531cac"
      },
      "source": [
        "np.std(a2)"
      ],
      "execution_count": null,
      "outputs": [
        {
          "output_type": "execute_result",
          "data": {
            "text/plain": [
              "2.748737083745107"
            ]
          },
          "metadata": {
            "tags": []
          },
          "execution_count": 16
        }
      ]
    },
    {
      "cell_type": "code",
      "metadata": {
        "id": "wqNJhObF9EB3",
        "colab": {
          "base_uri": "https://localhost:8080/"
        },
        "outputId": "1b1a88a1-3949-43f7-d78b-f288f3c9052f"
      },
      "source": [
        "# std = sqrt var\n",
        "np.std(a2) == np.sqrt(np.var(a2))"
      ],
      "execution_count": null,
      "outputs": [
        {
          "output_type": "execute_result",
          "data": {
            "text/plain": [
              "True"
            ]
          },
          "metadata": {
            "tags": []
          },
          "execution_count": 18
        }
      ]
    },
    {
      "cell_type": "markdown",
      "metadata": {
        "id": "2DtnHkyB9aNG"
      },
      "source": [
        "## Resahping and Transposing"
      ]
    },
    {
      "cell_type": "code",
      "metadata": {
        "id": "Y26xpTf2WROU",
        "colab": {
          "base_uri": "https://localhost:8080/"
        },
        "outputId": "db7260a2-1b26-4a95-cb83-7579eb880fe4"
      },
      "source": [
        "a2"
      ],
      "execution_count": null,
      "outputs": [
        {
          "output_type": "execute_result",
          "data": {
            "text/plain": [
              "array([[1, 2, 5],\n",
              "       [7, 9, 4]])"
            ]
          },
          "metadata": {
            "tags": []
          },
          "execution_count": 21
        }
      ]
    },
    {
      "cell_type": "code",
      "metadata": {
        "id": "6umsOsDuWTMF",
        "colab": {
          "base_uri": "https://localhost:8080/"
        },
        "outputId": "8e39c63f-ecb4-4d5c-b577-c6999efb0545"
      },
      "source": [
        "a3"
      ],
      "execution_count": null,
      "outputs": [
        {
          "output_type": "execute_result",
          "data": {
            "text/plain": [
              "array([[[ 1,  2,  3],\n",
              "        [ 4,  5,  6],\n",
              "        [ 7,  8,  9]],\n",
              "\n",
              "       [[10, 11, 12],\n",
              "        [13, 14, 15],\n",
              "        [16, 17, 18]]])"
            ]
          },
          "metadata": {
            "tags": []
          },
          "execution_count": 22
        }
      ]
    },
    {
      "cell_type": "code",
      "metadata": {
        "id": "74bDBJnFWVQ1",
        "colab": {
          "base_uri": "https://localhost:8080/"
        },
        "outputId": "014f666e-a223-44bc-abb3-3638d0699796"
      },
      "source": [
        "a2.shape, a3.shape"
      ],
      "execution_count": null,
      "outputs": [
        {
          "output_type": "execute_result",
          "data": {
            "text/plain": [
              "((2, 3), (2, 3, 3))"
            ]
          },
          "metadata": {
            "tags": []
          },
          "execution_count": 23
        }
      ]
    },
    {
      "cell_type": "code",
      "metadata": {
        "id": "Ulm4N-ofWYVF",
        "colab": {
          "base_uri": "https://localhost:8080/",
          "height": 167
        },
        "outputId": "a99b213b-6382-46be-fbb0-3c44f055f6f7"
      },
      "source": [
        "a2*a3"
      ],
      "execution_count": null,
      "outputs": [
        {
          "output_type": "error",
          "ename": "ValueError",
          "evalue": "ignored",
          "traceback": [
            "\u001b[0;31m---------------------------------------------------------------------------\u001b[0m",
            "\u001b[0;31mValueError\u001b[0m                                Traceback (most recent call last)",
            "\u001b[0;32m<ipython-input-25-e78a3a07c1a0>\u001b[0m in \u001b[0;36m<module>\u001b[0;34m()\u001b[0m\n\u001b[0;32m----> 1\u001b[0;31m \u001b[0ma2\u001b[0m\u001b[0;34m*\u001b[0m\u001b[0ma3\u001b[0m\u001b[0;34m\u001b[0m\u001b[0;34m\u001b[0m\u001b[0m\n\u001b[0m",
            "\u001b[0;31mValueError\u001b[0m: operands could not be broadcast together with shapes (2,3) (2,3,3) "
          ]
        }
      ]
    },
    {
      "cell_type": "code",
      "metadata": {
        "id": "Z-R3QtxMWg3q",
        "colab": {
          "base_uri": "https://localhost:8080/"
        },
        "outputId": "37e4301d-9db4-4154-dace-92a670dcfbaa"
      },
      "source": [
        "reshaped = a2.reshape(2,3,1)\n",
        "reshaped"
      ],
      "execution_count": null,
      "outputs": [
        {
          "output_type": "execute_result",
          "data": {
            "text/plain": [
              "array([[[1],\n",
              "        [2],\n",
              "        [5]],\n",
              "\n",
              "       [[7],\n",
              "        [9],\n",
              "        [4]]])"
            ]
          },
          "metadata": {
            "tags": []
          },
          "execution_count": 26
        }
      ]
    },
    {
      "cell_type": "code",
      "metadata": {
        "id": "_46oPjplWvr8",
        "colab": {
          "base_uri": "https://localhost:8080/"
        },
        "outputId": "8b37444f-8607-4fed-a7a5-bb12c585c4ce"
      },
      "source": [
        "reshaped * a3"
      ],
      "execution_count": null,
      "outputs": [
        {
          "output_type": "execute_result",
          "data": {
            "text/plain": [
              "array([[[  1,   2,   3],\n",
              "        [  8,  10,  12],\n",
              "        [ 35,  40,  45]],\n",
              "\n",
              "       [[ 70,  77,  84],\n",
              "        [117, 126, 135],\n",
              "        [ 64,  68,  72]]])"
            ]
          },
          "metadata": {
            "tags": []
          },
          "execution_count": 27
        }
      ]
    },
    {
      "cell_type": "code",
      "metadata": {
        "id": "yB54Cjq3W7ZV",
        "colab": {
          "base_uri": "https://localhost:8080/"
        },
        "outputId": "27c0fee5-80a2-430d-8851-11d1e9e4ca9a"
      },
      "source": [
        "a2.T"
      ],
      "execution_count": null,
      "outputs": [
        {
          "output_type": "execute_result",
          "data": {
            "text/plain": [
              "array([[1, 7],\n",
              "       [2, 9],\n",
              "       [5, 4]])"
            ]
          },
          "metadata": {
            "tags": []
          },
          "execution_count": 28
        }
      ]
    },
    {
      "cell_type": "code",
      "metadata": {
        "id": "FSa-SfIwXk9K",
        "colab": {
          "base_uri": "https://localhost:8080/"
        },
        "outputId": "359ca41f-4318-4031-bf66-0c195ab31a1b"
      },
      "source": [
        "a2.T.shape"
      ],
      "execution_count": null,
      "outputs": [
        {
          "output_type": "execute_result",
          "data": {
            "text/plain": [
              "(3, 2)"
            ]
          },
          "metadata": {
            "tags": []
          },
          "execution_count": 29
        }
      ]
    },
    {
      "cell_type": "code",
      "metadata": {
        "id": "XfGQd7W4XnOL",
        "colab": {
          "base_uri": "https://localhost:8080/"
        },
        "outputId": "46cced27-979a-4814-a0f5-7d31a95a77d7"
      },
      "source": [
        "a3.T"
      ],
      "execution_count": null,
      "outputs": [
        {
          "output_type": "execute_result",
          "data": {
            "text/plain": [
              "array([[[ 1, 10],\n",
              "        [ 4, 13],\n",
              "        [ 7, 16]],\n",
              "\n",
              "       [[ 2, 11],\n",
              "        [ 5, 14],\n",
              "        [ 8, 17]],\n",
              "\n",
              "       [[ 3, 12],\n",
              "        [ 6, 15],\n",
              "        [ 9, 18]]])"
            ]
          },
          "metadata": {
            "tags": []
          },
          "execution_count": 30
        }
      ]
    },
    {
      "cell_type": "code",
      "metadata": {
        "id": "Cv93kYNMX7KE",
        "colab": {
          "base_uri": "https://localhost:8080/"
        },
        "outputId": "14a67834-c741-46fa-fe3e-bcceb2117b90"
      },
      "source": [
        "a3.shape"
      ],
      "execution_count": null,
      "outputs": [
        {
          "output_type": "execute_result",
          "data": {
            "text/plain": [
              "(2, 3, 3)"
            ]
          },
          "metadata": {
            "tags": []
          },
          "execution_count": 31
        }
      ]
    },
    {
      "cell_type": "code",
      "metadata": {
        "id": "wX7sAeIdX9u7",
        "colab": {
          "base_uri": "https://localhost:8080/"
        },
        "outputId": "397de822-171e-4e36-c9e4-7df3b5d0dc0f"
      },
      "source": [
        "a3.T.shape"
      ],
      "execution_count": null,
      "outputs": [
        {
          "output_type": "execute_result",
          "data": {
            "text/plain": [
              "(3, 3, 2)"
            ]
          },
          "metadata": {
            "tags": []
          },
          "execution_count": 32
        }
      ]
    },
    {
      "cell_type": "markdown",
      "metadata": {
        "id": "3-jU5FQyYC7o"
      },
      "source": [
        "## Dot poduct"
      ]
    },
    {
      "cell_type": "code",
      "metadata": {
        "id": "RWMsOkY-aj8f"
      },
      "source": [
        "np.random.seed(0)\n",
        "\n",
        "mat1 = np.random.randint(10,size=(5,3))\n",
        "mat2 = np.random.randint(10,size=(3,5))"
      ],
      "execution_count": null,
      "outputs": []
    },
    {
      "cell_type": "code",
      "metadata": {
        "id": "p67sXJC-a9tF",
        "colab": {
          "base_uri": "https://localhost:8080/"
        },
        "outputId": "26c83e46-058f-44fd-a928-0bd941a60878"
      },
      "source": [
        "mat1"
      ],
      "execution_count": null,
      "outputs": [
        {
          "output_type": "execute_result",
          "data": {
            "text/plain": [
              "array([[5, 0, 3],\n",
              "       [3, 7, 9],\n",
              "       [3, 5, 2],\n",
              "       [4, 7, 6],\n",
              "       [8, 8, 1]])"
            ]
          },
          "metadata": {
            "tags": []
          },
          "execution_count": 35
        }
      ]
    },
    {
      "cell_type": "code",
      "metadata": {
        "id": "tUb3OyJAa-9Y",
        "colab": {
          "base_uri": "https://localhost:8080/"
        },
        "outputId": "79d1958d-3ef1-48d1-b37c-60f49751425c"
      },
      "source": [
        "mat2"
      ],
      "execution_count": null,
      "outputs": [
        {
          "output_type": "execute_result",
          "data": {
            "text/plain": [
              "array([[6, 7, 7, 8, 1],\n",
              "       [5, 9, 8, 9, 4],\n",
              "       [3, 0, 3, 5, 0]])"
            ]
          },
          "metadata": {
            "tags": []
          },
          "execution_count": 37
        }
      ]
    },
    {
      "cell_type": "code",
      "metadata": {
        "id": "Fq3-TKJpa_4u",
        "colab": {
          "base_uri": "https://localhost:8080/",
          "height": 167
        },
        "outputId": "f855f660-fcf5-4835-88b4-bbcc681d5ddc"
      },
      "source": [
        "mat1*mat2"
      ],
      "execution_count": null,
      "outputs": [
        {
          "output_type": "error",
          "ename": "ValueError",
          "evalue": "ignored",
          "traceback": [
            "\u001b[0;31m---------------------------------------------------------------------------\u001b[0m",
            "\u001b[0;31mValueError\u001b[0m                                Traceback (most recent call last)",
            "\u001b[0;32m<ipython-input-38-f2c6f9d04f62>\u001b[0m in \u001b[0;36m<module>\u001b[0;34m()\u001b[0m\n\u001b[0;32m----> 1\u001b[0;31m \u001b[0mmat1\u001b[0m\u001b[0;34m*\u001b[0m\u001b[0mmat2\u001b[0m\u001b[0;34m\u001b[0m\u001b[0;34m\u001b[0m\u001b[0m\n\u001b[0m",
            "\u001b[0;31mValueError\u001b[0m: operands could not be broadcast together with shapes (5,3) (3,5) "
          ]
        }
      ]
    },
    {
      "cell_type": "code",
      "metadata": {
        "id": "MbmH5GeYbGEi",
        "colab": {
          "base_uri": "https://localhost:8080/"
        },
        "outputId": "bf9dd237-56ba-494a-d5c8-e7103496f805"
      },
      "source": [
        "np.dot(mat1,mat2)"
      ],
      "execution_count": null,
      "outputs": [
        {
          "output_type": "execute_result",
          "data": {
            "text/plain": [
              "array([[ 39,  35,  44,  55,   5],\n",
              "       [ 80,  84, 104, 132,  31],\n",
              "       [ 49,  66,  67,  79,  23],\n",
              "       [ 77,  91, 102, 125,  32],\n",
              "       [ 91, 128, 123, 141,  40]])"
            ]
          },
          "metadata": {
            "tags": []
          },
          "execution_count": 39
        }
      ]
    },
    {
      "cell_type": "code",
      "metadata": {
        "id": "8gjwdU98bLEX",
        "colab": {
          "base_uri": "https://localhost:8080/"
        },
        "outputId": "17b5035a-d44c-4cc3-98c1-e8f772998050"
      },
      "source": [
        "np.dot(mat1,mat2).shape"
      ],
      "execution_count": null,
      "outputs": [
        {
          "output_type": "execute_result",
          "data": {
            "text/plain": [
              "(5, 5)"
            ]
          },
          "metadata": {
            "tags": []
          },
          "execution_count": 40
        }
      ]
    },
    {
      "cell_type": "markdown",
      "metadata": {
        "id": "DbuXnhh-cBrC"
      },
      "source": [
        "## COmparison operators"
      ]
    },
    {
      "cell_type": "code",
      "metadata": {
        "id": "gjfJkUQSqv7p",
        "colab": {
          "base_uri": "https://localhost:8080/"
        },
        "outputId": "bdd26a18-377f-415c-808f-5e94cd97b6d6"
      },
      "source": [
        "a1"
      ],
      "execution_count": null,
      "outputs": [
        {
          "output_type": "execute_result",
          "data": {
            "text/plain": [
              "array([1. , 5. , 7.5])"
            ]
          },
          "metadata": {
            "tags": []
          },
          "execution_count": 45
        }
      ]
    },
    {
      "cell_type": "code",
      "metadata": {
        "id": "hcGP8Wtlri4L",
        "colab": {
          "base_uri": "https://localhost:8080/"
        },
        "outputId": "e18c2a37-680d-4e63-98d5-d57c45e2d1f9"
      },
      "source": [
        "a2"
      ],
      "execution_count": null,
      "outputs": [
        {
          "output_type": "execute_result",
          "data": {
            "text/plain": [
              "array([[1, 2, 5],\n",
              "       [7, 9, 4]])"
            ]
          },
          "metadata": {
            "tags": []
          },
          "execution_count": 46
        }
      ]
    },
    {
      "cell_type": "code",
      "metadata": {
        "id": "SvkHKORorkAP",
        "colab": {
          "base_uri": "https://localhost:8080/"
        },
        "outputId": "a839ef79-ee95-467f-eaa6-9e985e75083c"
      },
      "source": [
        "bool_arr = a1 > a2\n",
        "bool_arr"
      ],
      "execution_count": null,
      "outputs": [
        {
          "output_type": "execute_result",
          "data": {
            "text/plain": [
              "array([[False,  True,  True],\n",
              "       [False, False,  True]])"
            ]
          },
          "metadata": {
            "tags": []
          },
          "execution_count": 47
        }
      ]
    },
    {
      "cell_type": "code",
      "metadata": {
        "id": "pQ8bu8LMrsNS",
        "colab": {
          "base_uri": "https://localhost:8080/"
        },
        "outputId": "5e0da9c7-4ed4-4a23-f0bb-75c4a639693c"
      },
      "source": [
        "bool_arr.shape, bool_arr.dtype"
      ],
      "execution_count": null,
      "outputs": [
        {
          "output_type": "execute_result",
          "data": {
            "text/plain": [
              "((2, 3), dtype('bool'))"
            ]
          },
          "metadata": {
            "tags": []
          },
          "execution_count": 48
        }
      ]
    },
    {
      "cell_type": "code",
      "metadata": {
        "id": "9WzgnTr5r5fT",
        "colab": {
          "base_uri": "https://localhost:8080/"
        },
        "outputId": "c4b0f6d9-5ae8-446f-fe8c-f65d31235629"
      },
      "source": [
        "a1 > 5"
      ],
      "execution_count": null,
      "outputs": [
        {
          "output_type": "execute_result",
          "data": {
            "text/plain": [
              "array([False, False,  True])"
            ]
          },
          "metadata": {
            "tags": []
          },
          "execution_count": 49
        }
      ]
    },
    {
      "cell_type": "code",
      "metadata": {
        "id": "BR0HokFBr9MZ",
        "colab": {
          "base_uri": "https://localhost:8080/"
        },
        "outputId": "acf5155b-96cc-4343-f6b2-796074eed4d3"
      },
      "source": [
        "a1 < 5"
      ],
      "execution_count": null,
      "outputs": [
        {
          "output_type": "execute_result",
          "data": {
            "text/plain": [
              "array([ True, False, False])"
            ]
          },
          "metadata": {
            "tags": []
          },
          "execution_count": 50
        }
      ]
    },
    {
      "cell_type": "code",
      "metadata": {
        "id": "wEpPqcAUsAHB",
        "colab": {
          "base_uri": "https://localhost:8080/"
        },
        "outputId": "c6ce94d1-a7c0-46e3-a6e4-995b50119a5e"
      },
      "source": [
        "a1 == a2"
      ],
      "execution_count": null,
      "outputs": [
        {
          "output_type": "execute_result",
          "data": {
            "text/plain": [
              "array([[ True, False, False],\n",
              "       [False, False, False]])"
            ]
          },
          "metadata": {
            "tags": []
          },
          "execution_count": 51
        }
      ]
    },
    {
      "cell_type": "code",
      "metadata": {
        "id": "eqGyOXHksDkQ",
        "colab": {
          "base_uri": "https://localhost:8080/"
        },
        "outputId": "0768be13-0ff2-498d-83e6-bf4bf0d8a77a"
      },
      "source": [
        "np.isfinite(a2)"
      ],
      "execution_count": null,
      "outputs": [
        {
          "output_type": "execute_result",
          "data": {
            "text/plain": [
              "array([[ True,  True,  True],\n",
              "       [ True,  True,  True]])"
            ]
          },
          "metadata": {
            "tags": []
          },
          "execution_count": 52
        }
      ]
    },
    {
      "cell_type": "markdown",
      "metadata": {
        "id": "lhg-LVYNsVMU"
      },
      "source": [
        "## Sorting Arrays"
      ]
    },
    {
      "cell_type": "code",
      "metadata": {
        "id": "1iPATDG_tuY8",
        "colab": {
          "base_uri": "https://localhost:8080/"
        },
        "outputId": "a210b458-5d14-4191-9d57-540238a0adaf"
      },
      "source": [
        "a1"
      ],
      "execution_count": null,
      "outputs": [
        {
          "output_type": "execute_result",
          "data": {
            "text/plain": [
              "array([1. , 5. , 7.5])"
            ]
          },
          "metadata": {
            "tags": []
          },
          "execution_count": 55
        }
      ]
    },
    {
      "cell_type": "code",
      "metadata": {
        "id": "15gsSNopshm4",
        "colab": {
          "base_uri": "https://localhost:8080/"
        },
        "outputId": "8556de2d-e20e-4f75-fc12-3eec9971a0c6"
      },
      "source": [
        "np.sort(a1)"
      ],
      "execution_count": null,
      "outputs": [
        {
          "output_type": "execute_result",
          "data": {
            "text/plain": [
              "array([1. , 5. , 7.5])"
            ]
          },
          "metadata": {
            "tags": []
          },
          "execution_count": 56
        }
      ]
    },
    {
      "cell_type": "code",
      "metadata": {
        "id": "bKx5C8qlt0Ix",
        "colab": {
          "base_uri": "https://localhost:8080/"
        },
        "outputId": "14b765e3-a043-410a-cdc6-67797d3ac3fb"
      },
      "source": [
        "np.argsort(a1)"
      ],
      "execution_count": null,
      "outputs": [
        {
          "output_type": "execute_result",
          "data": {
            "text/plain": [
              "array([0, 1, 2])"
            ]
          },
          "metadata": {
            "tags": []
          },
          "execution_count": 57
        }
      ]
    },
    {
      "cell_type": "code",
      "metadata": {
        "id": "AgUklAUht7Bt",
        "colab": {
          "base_uri": "https://localhost:8080/"
        },
        "outputId": "51585546-baf2-4203-f0e4-1cafb12c71b7"
      },
      "source": [
        "a2"
      ],
      "execution_count": null,
      "outputs": [
        {
          "output_type": "execute_result",
          "data": {
            "text/plain": [
              "array([[1, 2, 5],\n",
              "       [7, 9, 4]])"
            ]
          },
          "metadata": {
            "tags": []
          },
          "execution_count": 58
        }
      ]
    },
    {
      "cell_type": "code",
      "metadata": {
        "id": "4-i444mmt8xJ",
        "colab": {
          "base_uri": "https://localhost:8080/"
        },
        "outputId": "2b3a12bc-c850-495f-cecf-f5782f44709f"
      },
      "source": [
        "np.sort(a2)"
      ],
      "execution_count": null,
      "outputs": [
        {
          "output_type": "execute_result",
          "data": {
            "text/plain": [
              "array([[1, 2, 5],\n",
              "       [4, 7, 9]])"
            ]
          },
          "metadata": {
            "tags": []
          },
          "execution_count": 59
        }
      ]
    },
    {
      "cell_type": "code",
      "metadata": {
        "id": "9RJHRv3cuBhJ",
        "colab": {
          "base_uri": "https://localhost:8080/"
        },
        "outputId": "6a13269a-d95f-4385-c676-5a417474b1f2"
      },
      "source": [
        "np.argsort(a2)"
      ],
      "execution_count": null,
      "outputs": [
        {
          "output_type": "execute_result",
          "data": {
            "text/plain": [
              "array([[0, 1, 2],\n",
              "       [2, 0, 1]])"
            ]
          },
          "metadata": {
            "tags": []
          },
          "execution_count": 60
        }
      ]
    },
    {
      "cell_type": "code",
      "metadata": {
        "id": "voq5PJj5uFPS",
        "colab": {
          "base_uri": "https://localhost:8080/"
        },
        "outputId": "e92e5981-8f81-452a-defd-92e30b53ea1f"
      },
      "source": [
        "np.argmin(a2, axis=0)"
      ],
      "execution_count": null,
      "outputs": [
        {
          "output_type": "execute_result",
          "data": {
            "text/plain": [
              "array([0, 0, 1])"
            ]
          },
          "metadata": {
            "tags": []
          },
          "execution_count": 64
        }
      ]
    },
    {
      "cell_type": "code",
      "metadata": {
        "id": "nyamkfuAuQF-",
        "colab": {
          "base_uri": "https://localhost:8080/"
        },
        "outputId": "d254e192-0c6b-42ae-b40a-abf7b0a16e93"
      },
      "source": [
        "np.argmax(a2, axis=1)"
      ],
      "execution_count": null,
      "outputs": [
        {
          "output_type": "execute_result",
          "data": {
            "text/plain": [
              "array([2, 1])"
            ]
          },
          "metadata": {
            "tags": []
          },
          "execution_count": 65
        }
      ]
    },
    {
      "cell_type": "markdown",
      "metadata": {
        "id": "m0oy7QdLuXsW"
      },
      "source": [
        "## Practical Examples"
      ]
    },
    {
      "cell_type": "markdown",
      "metadata": {
        "id": "IetOGvx-xtjo"
      },
      "source": [
        "<img src=\"https://resize-europe1.lanmedia.fr/r/622,311,forcex,center-middle/img/var/europe1/storage/images/europe1/international/le-panda-geant-nest-plus-en-danger-mais-reste-menace-2837755/28733065-1-fre-FR/Le-panda-geant-n-est-plus-en-danger-mais-reste-menace.jpg\" />"
      ]
    },
    {
      "cell_type": "code",
      "metadata": {
        "id": "s87FYfAfyJ99",
        "colab": {
          "base_uri": "https://localhost:8080/",
          "height": 324
        },
        "outputId": "7fb06893-592a-4d55-eb87-1c576812752f"
      },
      "source": [
        "## Turn an image to a NumPy Array\n",
        "\n",
        "from matplotlib.image import imread # imread === image read\n",
        "panda = imread(\"https://png.pngtree.com/png-vector/20201126/ourmid/pngtree-christmas-corner-decoration-with-png-image_2482970.jpg\")"
      ],
      "execution_count": null,
      "outputs": [
        {
          "output_type": "error",
          "ename": "ValueError",
          "evalue": "ignored",
          "traceback": [
            "\u001b[0;31m---------------------------------------------------------------------------\u001b[0m",
            "\u001b[0;31mValueError\u001b[0m                                Traceback (most recent call last)",
            "\u001b[0;32m<ipython-input-81-35203e8eb305>\u001b[0m in \u001b[0;36m<module>\u001b[0;34m()\u001b[0m\n\u001b[1;32m      2\u001b[0m \u001b[0;34m\u001b[0m\u001b[0m\n\u001b[1;32m      3\u001b[0m \u001b[0;32mfrom\u001b[0m \u001b[0mmatplotlib\u001b[0m\u001b[0;34m.\u001b[0m\u001b[0mimage\u001b[0m \u001b[0;32mimport\u001b[0m \u001b[0mimread\u001b[0m \u001b[0;31m# imread === image read\u001b[0m\u001b[0;34m\u001b[0m\u001b[0;34m\u001b[0m\u001b[0m\n\u001b[0;32m----> 4\u001b[0;31m \u001b[0mpanda\u001b[0m \u001b[0;34m=\u001b[0m \u001b[0mimread\u001b[0m\u001b[0;34m(\u001b[0m\u001b[0;34m\"https://png.pngtree.com/png-vector/20201126/ourmid/pngtree-christmas-corner-decoration-with-png-image_2482970.jpg\"\u001b[0m\u001b[0;34m)\u001b[0m\u001b[0;34m\u001b[0m\u001b[0;34m\u001b[0m\u001b[0m\n\u001b[0m",
            "\u001b[0;32m/usr/local/lib/python3.6/dist-packages/matplotlib/image.py\u001b[0m in \u001b[0;36mimread\u001b[0;34m(fname, format)\u001b[0m\n\u001b[1;32m   1471\u001b[0m             \u001b[0;32mfrom\u001b[0m \u001b[0murllib\u001b[0m \u001b[0;32mimport\u001b[0m \u001b[0mrequest\u001b[0m\u001b[0;34m\u001b[0m\u001b[0;34m\u001b[0m\u001b[0m\n\u001b[1;32m   1472\u001b[0m             \u001b[0mfd\u001b[0m \u001b[0;34m=\u001b[0m \u001b[0mBytesIO\u001b[0m\u001b[0;34m(\u001b[0m\u001b[0mrequest\u001b[0m\u001b[0;34m.\u001b[0m\u001b[0murlopen\u001b[0m\u001b[0;34m(\u001b[0m\u001b[0mfname\u001b[0m\u001b[0;34m)\u001b[0m\u001b[0;34m.\u001b[0m\u001b[0mread\u001b[0m\u001b[0;34m(\u001b[0m\u001b[0;34m)\u001b[0m\u001b[0;34m)\u001b[0m\u001b[0;34m\u001b[0m\u001b[0;34m\u001b[0m\u001b[0m\n\u001b[0;32m-> 1473\u001b[0;31m             \u001b[0;32mreturn\u001b[0m \u001b[0m_png\u001b[0m\u001b[0;34m.\u001b[0m\u001b[0mread_png\u001b[0m\u001b[0;34m(\u001b[0m\u001b[0mfd\u001b[0m\u001b[0;34m)\u001b[0m\u001b[0;34m\u001b[0m\u001b[0;34m\u001b[0m\u001b[0m\n\u001b[0m\u001b[1;32m   1474\u001b[0m     \u001b[0;32mwith\u001b[0m \u001b[0mcbook\u001b[0m\u001b[0;34m.\u001b[0m\u001b[0mopen_file_cm\u001b[0m\u001b[0;34m(\u001b[0m\u001b[0mfname\u001b[0m\u001b[0;34m,\u001b[0m \u001b[0;34m\"rb\"\u001b[0m\u001b[0;34m)\u001b[0m \u001b[0;32mas\u001b[0m \u001b[0mfile\u001b[0m\u001b[0;34m:\u001b[0m\u001b[0;34m\u001b[0m\u001b[0;34m\u001b[0m\u001b[0m\n\u001b[1;32m   1475\u001b[0m         \u001b[0;32mreturn\u001b[0m \u001b[0m_png\u001b[0m\u001b[0;34m.\u001b[0m\u001b[0mread_png\u001b[0m\u001b[0;34m(\u001b[0m\u001b[0mfile\u001b[0m\u001b[0;34m)\u001b[0m\u001b[0;34m\u001b[0m\u001b[0;34m\u001b[0m\u001b[0m\n",
            "\u001b[0;31mValueError\u001b[0m: invalid PNG header"
          ]
        }
      ]
    },
    {
      "cell_type": "markdown",
      "metadata": {
        "id": "FvcqmCF44aSq"
      },
      "source": [
        "### Distributions\n",
        "With np.random.uniform we can draw pseudo-random real numbers from a uniform distribution."
      ]
    },
    {
      "cell_type": "code",
      "metadata": {
        "colab": {
          "base_uri": "https://localhost:8080/"
        },
        "id": "xSi6we8jEkAZ",
        "outputId": "af2ea573-9fd0-4ef1-8032-03b40ba1ae74"
      },
      "source": [
        "print(np.random.uniform())\n",
        "print(np.random.uniform(low=-1.5, high=2.2))\n",
        "print(repr(np.random.uniform(size=3)))\n",
        "print(repr(np.random.uniform(low=-3.4, high=5.9,\n",
        "                             size=(2, 2))))"
      ],
      "execution_count": 2,
      "outputs": [
        {
          "output_type": "stream",
          "text": [
            "0.02071713399890196\n",
            "0.2693660583665387\n",
            "array([0.54841584, 0.32804393, 0.01508149])\n",
            "array([[-2.93536666, -1.46617341],\n",
            "       [ 2.83616646,  4.680304  ]])\n"
          ],
          "name": "stdout"
        }
      ]
    },
    {
      "cell_type": "markdown",
      "metadata": {
        "id": "31M90-IUEmfa"
      },
      "source": [
        "we can use np.random.uniform to draw pseudo-random real numbers from a uniform distribution."
      ]
    },
    {
      "cell_type": "code",
      "metadata": {
        "colab": {
          "base_uri": "https://localhost:8080/"
        },
        "id": "UsROjRXwFM2P",
        "outputId": "48c758ad-c597-483d-8312-8237064172d7"
      },
      "source": [
        "print(np.random.normal())\n",
        "print(np.random.normal(loc=1.5, scale=3.5))\n",
        "print(repr(np.random.normal(loc=-2.4, scale=4.0,\n",
        "                            size=(2, 2))))"
      ],
      "execution_count": 4,
      "outputs": [
        {
          "output_type": "stream",
          "text": [
            "-0.4050029871128007\n",
            "6.51606403618199\n",
            "array([[ 1.90920085, -8.66761499],\n",
            "       [-5.28974991, -0.20538494]])\n"
          ],
          "name": "stdout"
        }
      ]
    },
    {
      "cell_type": "markdown",
      "metadata": {
        "id": "5ZNNPL4jFSOF"
      },
      "source": [
        "The loc and scale keyword arguments represent the mean and standard deviation, respectively"
      ]
    },
    {
      "cell_type": "markdown",
      "metadata": {
        "id": "TVlziu4XFzbK"
      },
      "source": [
        "### Custom sampling \n",
        "we can also sample from a custom distribution with the np.random.choice function."
      ]
    },
    {
      "cell_type": "code",
      "metadata": {
        "colab": {
          "base_uri": "https://localhost:8080/"
        },
        "id": "X0ePfnenGOV_",
        "outputId": "2b8fb7a5-607c-459a-847a-54129f3bd316"
      },
      "source": [
        "colors = ['red', 'blue', 'green']\n",
        "print(np.random.choice(colors))\n",
        "print(repr(np.random.choice(colors, size=2)))\n",
        "print(repr(np.random.choice(colors, size=(2, 2),\n",
        "                            p=[0.8, 0.19, 0.01]))) # p keyword is for probabilities when it s not specified they are equal for each element and they sum up to 1 all the time"
      ],
      "execution_count": 5,
      "outputs": [
        {
          "output_type": "stream",
          "text": [
            "blue\n",
            "array(['blue', 'blue'], dtype='<U5')\n",
            "array([['red', 'red'],\n",
            "       ['red', 'red']], dtype='<U5')\n"
          ],
          "name": "stdout"
        }
      ]
    },
    {
      "cell_type": "code",
      "metadata": {
        "colab": {
          "base_uri": "https://localhost:8080/"
        },
        "id": "5rNrPurOGZ4f",
        "outputId": "914dff78-5475-4168-cfad-be04e4007932"
      },
      "source": [
        "arr = np.array([[0, 2, 3],\n",
        "                [1, 3, -6],\n",
        "                [-3, -2, 1]])\n",
        "print(repr(arr == 3))\n",
        "print(repr(arr > 0))\n",
        "print(repr(arr != 1))\n",
        "# Negated from the previous step\n",
        "print(repr(~(arr != 1)))"
      ],
      "execution_count": 2,
      "outputs": [
        {
          "output_type": "stream",
          "text": [
            "array([[False, False,  True],\n",
            "       [False,  True, False],\n",
            "       [False, False, False]])\n",
            "array([[False,  True,  True],\n",
            "       [ True,  True, False],\n",
            "       [False, False,  True]])\n",
            "array([[ True,  True,  True],\n",
            "       [False,  True,  True],\n",
            "       [ True,  True, False]])\n",
            "array([[False, False, False],\n",
            "       [ True, False, False],\n",
            "       [False, False,  True]])\n"
          ],
          "name": "stdout"
        }
      ]
    },
    {
      "cell_type": "markdown",
      "metadata": {
        "id": "D-g6N20KLKWB"
      },
      "source": [
        "Something to note is that np.nan can't be used with any relation operation. Instead, we use np.isnan to filter for the location of np.nan."
      ]
    },
    {
      "cell_type": "code",
      "metadata": {
        "colab": {
          "base_uri": "https://localhost:8080/"
        },
        "id": "Hs8HsJNPLNFS",
        "outputId": "f4676d19-ad60-4b12-edd4-1d9089c8d26d"
      },
      "source": [
        "arr = np.array([[0, 2, np.nan],\n",
        "                [1, np.nan, -6],\n",
        "                [np.nan, -2, 1]])\n",
        "print(repr(np.isnan(arr)))"
      ],
      "execution_count": 3,
      "outputs": [
        {
          "output_type": "stream",
          "text": [
            "array([[False, False,  True],\n",
            "       [False,  True, False],\n",
            "       [ True, False, False]])\n"
          ],
          "name": "stdout"
        }
      ]
    },
    {
      "cell_type": "markdown",
      "metadata": {
        "id": "rUYoIgbrLb91"
      },
      "source": [
        "### Filtering in NumPy\n",
        "The np.where function takes in a required first argument, which is a boolean array where True represents the locations of the elements we want to filter for. When the function is applied with only the first argument, it returns a tuple of 1-D arrays."
      ]
    },
    {
      "cell_type": "code",
      "metadata": {
        "colab": {
          "base_uri": "https://localhost:8080/"
        },
        "id": "KjM9PhzBQL2S",
        "outputId": "37e24887-6cfa-4a9a-9b0c-8a9fd111addf"
      },
      "source": [
        "print(repr(np.where([True, False, True])))\n",
        "\n",
        "arr = np.array([0, 3, 5, 3, 1])\n",
        "print(repr(np.where(arr == 3)))\n",
        "\n",
        "arr = np.array([[0, 2, 3],\n",
        "                [1, 0, 0],\n",
        "                [-3, 0, 0]])\n",
        "x_ind, y_ind = np.where(arr != 0)\n",
        "print(repr(x_ind)) # x indices of non-zero elements\n",
        "print(repr(y_ind)) # y indices of non-zero elements\n",
        "print(repr(arr[x_ind, y_ind]))"
      ],
      "execution_count": 4,
      "outputs": [
        {
          "output_type": "stream",
          "text": [
            "(array([0, 2]),)\n",
            "(array([1, 3]),)\n",
            "array([0, 0, 1, 2])\n",
            "array([1, 2, 0, 0])\n",
            "array([ 2,  3,  1, -3])\n"
          ],
          "name": "stdout"
        }
      ]
    },
    {
      "cell_type": "markdown",
      "metadata": {
        "id": "2iL8IKTsSBRl"
      },
      "source": [
        "The interesting thing about np.where is that it must be applied with exactly 1 or 3 arguments. When we use 3 arguments, the first argument is still the boolean array. However, the next two arguments represent the True replacement values and the False replacement values, respectively. The output of the function now becomes an array with the same shape as the first argument."
      ]
    },
    {
      "cell_type": "code",
      "metadata": {
        "colab": {
          "base_uri": "https://localhost:8080/"
        },
        "id": "EEZE64bKSDjp",
        "outputId": "21fd3c5b-1aa3-48da-afaf-1bcfd45fa574"
      },
      "source": [
        "np_filter = np.array([[True, False], [False, True]])\n",
        "positives = np.array([[1, 2], [3, 4]])\n",
        "negatives = np.array([[-2, -5], [-1, -8]])\n",
        "print(repr(np.where(np_filter, positives, negatives)))\n",
        "\n",
        "np_filter = positives > 2\n",
        "print(repr(np.where(np_filter, positives, negatives)))\n",
        "\n",
        "np_filter = negatives > 0\n",
        "print(repr(np.where(np_filter, positives, negatives)))"
      ],
      "execution_count": 5,
      "outputs": [
        {
          "output_type": "stream",
          "text": [
            "array([[ 1, -5],\n",
            "       [-1,  4]])\n",
            "array([[-2, -5],\n",
            "       [ 3,  4]])\n",
            "array([[-2, -5],\n",
            "       [-1, -8]])\n"
          ],
          "name": "stdout"
        }
      ]
    },
    {
      "cell_type": "code",
      "metadata": {
        "colab": {
          "base_uri": "https://localhost:8080/"
        },
        "id": "wee3SozKSVl3",
        "outputId": "44183417-a6cf-47f8-c9da-cd8e994f1d10"
      },
      "source": [
        "# if we wanted to use a constant replacement value, e.g. -1, we could incorporate broadcasting.\n",
        "print(repr(np.where(np_filter, positives, -1)))"
      ],
      "execution_count": 6,
      "outputs": [
        {
          "output_type": "stream",
          "text": [
            "array([[-1, -1],\n",
            "       [-1, -1]])\n"
          ],
          "name": "stdout"
        }
      ]
    },
    {
      "cell_type": "markdown",
      "metadata": {
        "id": "kYdPXoEt8uh8"
      },
      "source": [
        "### Axis-wise filtering"
      ]
    },
    {
      "cell_type": "markdown",
      "metadata": {
        "id": "JIqXnJaS9CfF"
      },
      "source": [
        "The np.any function is equivalent to performing a logical OR (||), while the np.all function is equivalent to a logical AND (&&) "
      ]
    },
    {
      "cell_type": "code",
      "metadata": {
        "colab": {
          "base_uri": "https://localhost:8080/"
        },
        "id": "teO9Frv484j0",
        "outputId": "475834f8-9c15-4e71-9cf0-9974bdb94e2c"
      },
      "source": [
        "arr = np.array([[-2, -1, -3],\n",
        "                [4, 5, -6],\n",
        "                [3, 9, 1]])\n",
        "print(repr(arr > 0))\n",
        "print(np.any(arr > 0))\n",
        "print(np.all(arr > 0))"
      ],
      "execution_count": 4,
      "outputs": [
        {
          "output_type": "stream",
          "text": [
            "array([[False, False, False],\n",
            "       [ True,  True, False],\n",
            "       [ True,  True,  True]])\n",
            "True\n",
            "False\n"
          ],
          "name": "stdout"
        }
      ]
    },
    {
      "cell_type": "markdown",
      "metadata": {
        "id": "oupvsi3d9GQi"
      },
      "source": [
        "In addition to regular sums, NumPy can perform cumulative sums using np.cumsum"
      ]
    },
    {
      "cell_type": "code",
      "metadata": {
        "colab": {
          "base_uri": "https://localhost:8080/"
        },
        "id": "_enTojHQKsSk",
        "outputId": "56b74c26-f1e9-4f06-bf9a-1581bf0dc017"
      },
      "source": [
        "arr = np.array([[0, 72, 3],\n",
        "                [1, 3, -60],\n",
        "                [-3, -2, 4]])\n",
        "print(repr(np.cumsum(arr)))\n",
        "print(repr(np.cumsum(arr, axis=0)))\n",
        "print(repr(np.cumsum(arr, axis=1)))"
      ],
      "execution_count": 6,
      "outputs": [
        {
          "output_type": "stream",
          "text": [
            "array([ 0, 72, 75, 76, 79, 19, 16, 14, 18])\n",
            "array([[  0,  72,   3],\n",
            "       [  1,  75, -57],\n",
            "       [ -2,  73, -53]])\n",
            "array([[  0,  72,  75],\n",
            "       [  1,   4, -56],\n",
            "       [ -3,  -5,  -1]])\n"
          ],
          "name": "stdout"
        }
      ]
    },
    {
      "cell_type": "code",
      "metadata": {
        "colab": {
          "base_uri": "https://localhost:8080/"
        },
        "id": "FS-u7YIdKy9a",
        "outputId": "d15e7860-c479-4d6b-dc74-d1c3bb090bcf"
      },
      "source": [
        "#  Concatenation\n",
        "arr1 = np.array([[0, 72, 3],\n",
        "                 [1, 3, -60],\n",
        "                 [-3, -2, 4]])\n",
        "arr2 = np.array([[-15, 6, 1],\n",
        "                 [8, 9, -4],\n",
        "                 [5, -21, 18]])\n",
        "print(repr(np.concatenate([arr1, arr2])))\n",
        "print(repr(np.concatenate([arr1, arr2], axis=1)))\n",
        "print(repr(np.concatenate([arr2, arr1], axis=1)))"
      ],
      "execution_count": 7,
      "outputs": [
        {
          "output_type": "stream",
          "text": [
            "array([[  0,  72,   3],\n",
            "       [  1,   3, -60],\n",
            "       [ -3,  -2,   4],\n",
            "       [-15,   6,   1],\n",
            "       [  8,   9,  -4],\n",
            "       [  5, -21,  18]])\n",
            "array([[  0,  72,   3, -15,   6,   1],\n",
            "       [  1,   3, -60,   8,   9,  -4],\n",
            "       [ -3,  -2,   4,   5, -21,  18]])\n",
            "array([[-15,   6,   1,   0,  72,   3],\n",
            "       [  8,   9,  -4,   1,   3, -60],\n",
            "       [  5, -21,  18,  -3,  -2,   4]])\n"
          ],
          "name": "stdout"
        }
      ]
    },
    {
      "cell_type": "markdown",
      "metadata": {
        "id": "Rgkj-WaLT3-n"
      },
      "source": [
        "# Saving into a file\n",
        "\n"
      ]
    },
    {
      "cell_type": "code",
      "metadata": {
        "id": "sDIqHq78T8pp"
      },
      "source": [
        "arr = np.array([1, 2, 3])\n",
        "# Saves to 'arr.npy'\n",
        "np.save('arr.npy', arr)\n",
        "# Also saves to 'arr.npy'\n",
        "np.save('arr', arr)"
      ],
      "execution_count": 10,
      "outputs": []
    },
    {
      "cell_type": "code",
      "metadata": {
        "colab": {
          "base_uri": "https://localhost:8080/"
        },
        "id": "mMhWpFnhUDvD",
        "outputId": "1c39428c-2c44-46a1-c1a4-9a86edbd5168"
      },
      "source": [
        "arr =np.load('arr.npy')\n",
        "\n",
        "arr"
      ],
      "execution_count": 13,
      "outputs": [
        {
          "output_type": "execute_result",
          "data": {
            "text/plain": [
              "array([1, 2, 3])"
            ]
          },
          "metadata": {
            "tags": []
          },
          "execution_count": 13
        }
      ]
    }
  ]
}